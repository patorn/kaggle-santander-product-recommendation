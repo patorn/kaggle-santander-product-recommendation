{
 "cells": [
  {
   "cell_type": "code",
   "execution_count": 1,
   "metadata": {
    "collapsed": true
   },
   "outputs": [],
   "source": [
    "import numpy as np\n",
    "import pandas as pd \n",
    "import math"
   ]
  },
  {
   "cell_type": "code",
   "execution_count": 2,
   "metadata": {
    "collapsed": false
   },
   "outputs": [
    {
     "name": "stderr",
     "output_type": "stream",
     "text": [
      "/Users/patorn/.pyenv/versions/3.6.0/lib/python3.6/site-packages/IPython/core/interactiveshell.py:2717: DtypeWarning: Columns (5,8,11,15) have mixed types. Specify dtype option on import or set low_memory=False.\n",
      "  interactivity=interactivity, compiler=compiler, result=result)\n",
      "/Users/patorn/.pyenv/versions/3.6.0/lib/python3.6/site-packages/IPython/core/interactiveshell.py:2717: DtypeWarning: Columns (15) have mixed types. Specify dtype option on import or set low_memory=False.\n",
      "  interactivity=interactivity, compiler=compiler, result=result)\n"
     ]
    }
   ],
   "source": [
    "df_train = pd.read_csv('../data/train_ver2.csv')\n",
    "df_test = pd.read_csv('../data/test_ver2.csv')"
   ]
  },
  {
   "cell_type": "code",
   "execution_count": 3,
   "metadata": {
    "collapsed": true
   },
   "outputs": [],
   "source": [
    "for col in df_train:\n",
    "    if df_train[col].dtypes == object:\n",
    "        df_train[col] = df_train[col].str.strip()\n",
    "        \n",
    "for col in df_test:\n",
    "    if df_test[col].dtypes == object:\n",
    "        df_test[col] = df_test[col].str.strip()"
   ]
  },
  {
   "cell_type": "code",
   "execution_count": 6,
   "metadata": {
    "collapsed": true
   },
   "outputs": [],
   "source": [
    "products = (\n",
    "    \"ind_ahor_fin_ult1\",\n",
    "    \"ind_aval_fin_ult1\",\n",
    "    \"ind_cco_fin_ult1\" ,\n",
    "    \"ind_cder_fin_ult1\",\n",
    "    \"ind_cno_fin_ult1\" ,\n",
    "    \"ind_ctju_fin_ult1\",\n",
    "    \"ind_ctma_fin_ult1\",\n",
    "    \"ind_ctop_fin_ult1\",\n",
    "    \"ind_ctpp_fin_ult1\",\n",
    "    \"ind_deco_fin_ult1\",\n",
    "    \"ind_deme_fin_ult1\",\n",
    "    \"ind_dela_fin_ult1\",\n",
    "    \"ind_ecue_fin_ult1\",\n",
    "    \"ind_fond_fin_ult1\",\n",
    "    \"ind_hip_fin_ult1\" ,\n",
    "    \"ind_plan_fin_ult1\",\n",
    "    \"ind_pres_fin_ult1\",\n",
    "    \"ind_reca_fin_ult1\",\n",
    "    \"ind_tjcr_fin_ult1\",\n",
    "    \"ind_valo_fin_ult1\",\n",
    "    \"ind_viv_fin_ult1\" ,\n",
    "    \"ind_nomina_ult1\"  ,\n",
    "    \"ind_nom_pens_ult1\",\n",
    "    \"ind_recibo_ult1\"  ,\n",
    ")"
   ]
  },
  {
   "cell_type": "code",
   "execution_count": 5,
   "metadata": {
    "collapsed": false
   },
   "outputs": [],
   "source": [
    "for prod in products:\n",
    "    df_train[prod] = df_train[prod].fillna(0.0).astype(np.int8)\n",
    "    df_test[prod] = 0.0\n",
    "    df_test[prod] = df_test[prod].astype(np.int8)"
   ]
  },
  {
   "cell_type": "code",
   "execution_count": 16,
   "metadata": {
    "collapsed": true
   },
   "outputs": [],
   "source": [
    "from sklearn.preprocessing import LabelEncoder"
   ]
  },
  {
   "cell_type": "code",
   "execution_count": 7,
   "metadata": {
    "collapsed": false
   },
   "outputs": [],
   "source": [
    "name = 'canal_entrada'\n",
    "transformer = LabelEncoder()\n",
    "\n",
    "df_train[name] = df_train[name].astype('str')\n",
    "df_train[name] = transformer.fit_transform(df_train[name])\n",
    "df_test[name] = df_test[name].astype('str')\n",
    "df_test[name] = transformer.transform(df_test[name])"
   ]
  },
  {
   "cell_type": "code",
   "execution_count": 8,
   "metadata": {
    "collapsed": false
   },
   "outputs": [
    {
     "data": {
      "text/plain": [
       "array([  0,   1,   2,   3,   4,   5,   6,   7,   8,   9,  10,  11,  12,\n",
       "        13,  14,  15,  16,  17,  18,  19,  20,  21,  22,  23,  24,  25,\n",
       "        26,  27,  28,  29,  30,  31,  32,  33,  34,  35,  36,  37,  38,\n",
       "        39,  40,  41,  42,  43,  44,  45,  46,  47,  48,  49,  50,  51,\n",
       "        52,  53,  54,  55,  56,  57,  58,  59,  60,  61,  62,  63,  64,\n",
       "        65,  66,  67,  68,  69,  70,  71,  72,  73,  74,  75,  76,  77,\n",
       "        78,  79,  80,  81,  82,  83,  84,  85,  86,  87,  88,  89,  90,\n",
       "        91,  92,  93,  94,  95,  96,  97,  98,  99, 100, 101, 102, 103,\n",
       "       104, 105, 106, 107, 108, 109, 110, 111, 112, 113, 114, 115, 116,\n",
       "       117, 118, 119, 120, 121, 122, 123, 124, 125, 126, 127, 128, 129,\n",
       "       130, 131, 132, 133, 134, 135, 136, 137, 138, 139, 140, 141, 142,\n",
       "       143, 144, 145, 146, 147, 148, 149, 150, 151, 152, 153, 154, 155,\n",
       "       156, 157, 158, 159, 160, 161, 162])"
      ]
     },
     "execution_count": 8,
     "metadata": {},
     "output_type": "execute_result"
    }
   ],
   "source": [
    "np.array(sorted(pd.unique(df_train['canal_entrada'])))"
   ]
  },
  {
   "cell_type": "code",
   "execution_count": 9,
   "metadata": {
    "collapsed": true
   },
   "outputs": [],
   "source": [
    "name = 'pais_residencia'\n",
    "transformer = LabelEncoder()\n",
    "\n",
    "df_train[name] = df_train[name].astype('str')\n",
    "df_train[name] = transformer.fit_transform(df_train[name])\n",
    "df_test[name] = df_test[name].astype('str')\n",
    "df_test[name] = transformer.transform(df_test[name])"
   ]
  },
  {
   "cell_type": "code",
   "execution_count": null,
   "metadata": {
    "collapsed": true
   },
   "outputs": [],
   "source": [
    "for col in df:\n",
    "    if df[col].dtypes == object:\n",
    "        print(col, pd.unique(df[col]))"
   ]
  },
  {
   "cell_type": "code",
   "execution_count": 14,
   "metadata": {
    "collapsed": false
   },
   "outputs": [
    {
     "data": {
      "text/plain": [
       "0"
      ]
     },
     "execution_count": 14,
     "metadata": {},
     "output_type": "execute_result"
    }
   ],
   "source": [
    "df_train[\"age\"] = df_train[\"age\"].replace('NA', np.nan)\n",
    "len(df_train[df_train[\"age\"] == 'NA'])"
   ]
  },
  {
   "cell_type": "code",
   "execution_count": 15,
   "metadata": {
    "collapsed": true
   },
   "outputs": [],
   "source": [
    "df_train[\"age\"] = pd.to_numeric(df_train[\"age\"], errors='coerce')"
   ]
  },
  {
   "cell_type": "code",
   "execution_count": 16,
   "metadata": {
    "collapsed": false
   },
   "outputs": [],
   "source": [
    "df_train[\"age\"] = df_train[\"age\"].fillna(0.0).astype(np.int16)\n",
    "df_test[\"age\"] = df_test[\"age\"].fillna(0.0).astype(np.int16)"
   ]
  },
  {
   "cell_type": "code",
   "execution_count": 17,
   "metadata": {
    "collapsed": true
   },
   "outputs": [],
   "source": [
    "df_train[\"tipodom\"] = df_train[\"tipodom\"].fillna(0.0).astype(np.int8)\n",
    "df_test[\"tipodom\"] = df_test[\"tipodom\"].fillna(0.0).astype(np.int8)"
   ]
  },
  {
   "cell_type": "code",
   "execution_count": 18,
   "metadata": {
    "collapsed": true
   },
   "outputs": [],
   "source": [
    "df_train[\"cod_prov\"] = df_train[\"cod_prov\"].fillna(0.0).astype(np.int8)\n",
    "df_test[\"cod_prov\"] = df_test[\"cod_prov\"].fillna(0.0).astype(np.int8)"
   ]
  },
  {
   "cell_type": "code",
   "execution_count": 19,
   "metadata": {
    "collapsed": false
   },
   "outputs": [
    {
     "data": {
      "text/plain": [
       "0"
      ]
     },
     "execution_count": 19,
     "metadata": {},
     "output_type": "execute_result"
    }
   ],
   "source": [
    "df_train[\"antiguedad\"] = df_train[\"antiguedad\"].replace('NA', np.nan)\n",
    "len(df_train[df_train[\"antiguedad\"] == 'NA'])"
   ]
  },
  {
   "cell_type": "code",
   "execution_count": 20,
   "metadata": {
    "collapsed": false
   },
   "outputs": [],
   "source": [
    "df_train[\"antiguedad\"] = pd.to_numeric(df_train[\"antiguedad\"], errors='coerce')"
   ]
  },
  {
   "cell_type": "code",
   "execution_count": 21,
   "metadata": {
    "collapsed": false
   },
   "outputs": [],
   "source": [
    "onehot = lambda x: 0.0 if x < 0 or math.isnan(x) else x+1.0\n",
    "\n",
    "df_train[\"antiguedad\"] = df_train[\"antiguedad\"].map(onehot).astype(np.int16)\n",
    "df_test[\"antiguedad\"] = df_test[\"antiguedad\"].map(onehot).astype(np.int16)"
   ]
  },
  {
   "cell_type": "code",
   "execution_count": 22,
   "metadata": {
    "collapsed": false
   },
   "outputs": [],
   "source": [
    "df_train[\"renta\"].fillna(1.0, inplace=True)\n",
    "df_test[\"renta\"].fillna(1.0, inplace=True)"
   ]
  },
  {
   "cell_type": "code",
   "execution_count": 25,
   "metadata": {
    "collapsed": false
   },
   "outputs": [],
   "source": [
    "df_test[\"renta\"] = pd.to_numeric(df_test[\"renta\"], errors='coerce')"
   ]
  },
  {
   "cell_type": "code",
   "execution_count": 26,
   "metadata": {
    "collapsed": false
   },
   "outputs": [],
   "source": [
    "df_train[\"renta_log\"] = df_train[\"renta\"].map(math.log)\n",
    "df_test[\"renta_log\"] = df_test[\"renta\"].map(math.log)"
   ]
  },
  {
   "cell_type": "code",
   "execution_count": 27,
   "metadata": {
    "collapsed": true
   },
   "outputs": [],
   "source": [
    "f_dato_m = lambda x: int(x.split(\"-\")[1])\n",
    "f_dato_y = lambda x: float(x.split(\"-\")[0])\n",
    "\n",
    "df_train[\"fecha_dato_month\"] = df_train[\"fecha_dato\"].map(f_dato_m).astype(np.int8)\n",
    "df_train[\"fecha_dato_year\"] = df_train[\"fecha_dato\"].map(f_dato_y).astype(np.int16)\n",
    "\n",
    "df_test[\"fecha_dato_month\"] = df_test[\"fecha_dato\"].map(f_dato_m).astype(np.int8)\n",
    "df_test[\"fecha_dato_year\"] = df_test[\"fecha_dato\"].map(f_dato_y).astype(np.int16)"
   ]
  },
  {
   "cell_type": "code",
   "execution_count": 28,
   "metadata": {
    "collapsed": true
   },
   "outputs": [],
   "source": [
    "f_alta_m = lambda x: 0.0 if x.__class__ is float else float(x.split(\"-\")[1])\n",
    "f_alta_y = lambda x: 0.0 if x.__class__ is float else float(x.split(\"-\")[0])\n",
    "\n",
    "df_train[\"fecha_alta_month\"] = df_train[\"fecha_alta\"].map(f_alta_m).astype(np.int8)\n",
    "df_train[\"fecha_alta_year\"] = df_train[\"fecha_alta\"].map(f_alta_y).astype(np.int16)\n",
    "\n",
    "df_test[\"fecha_alta_month\"] = df_test[\"fecha_alta\"].map(f_alta_m).astype(np.int8)\n",
    "df_test[\"fecha_alta_year\"] = df_test[\"fecha_alta\"].map(f_alta_y).astype(np.int16)"
   ]
  },
  {
   "cell_type": "code",
   "execution_count": 29,
   "metadata": {
    "collapsed": true
   },
   "outputs": [],
   "source": [
    "def date_to_int(str_date):\n",
    "    Y, M, D = [int(a) for a in str_date.strip().split(\"-\")] # \"2016-05-28\"\n",
    "    int_date = (int(Y) - 2015) * 12 + int(M)\n",
    "    assert 1 <= int_date <= 12 + 6\n",
    "    return int_date\n",
    "\n",
    "# \"2016-05-28\" or \"\" or nan\n",
    "def date_to_float(str_date):\n",
    "    if str_date.__class__ is float and math.isnan(str_date) or str_date == \"\":\n",
    "        return np.nan\n",
    "    Y, M, D = [int(a) for a in str_date.strip().split(\"-\")]\n",
    "    float_date = float(Y) * 12 + float(M)\n",
    "    return float_date"
   ]
  },
  {
   "cell_type": "code",
   "execution_count": 30,
   "metadata": {
    "collapsed": true
   },
   "outputs": [],
   "source": [
    "df_train[\"fecha_dato_float\"] = df_train[\"fecha_dato\"].map(date_to_float)\n",
    "df_train[\"fecha_alta_float\"] = df_train[\"fecha_alta\"].map(date_to_float)\n",
    "df_train[\"dato_minus_alta\"] = df_train[\"fecha_dato_float\"] - df_train[\"fecha_alta_float\"]\n",
    "df_train[\"int_date\"] = df_train[\"fecha_dato\"].map(date_to_int).astype(np.int8)\n",
    "\n",
    "df_test[\"fecha_dato_float\"] = df_test[\"fecha_dato\"].map(date_to_float)\n",
    "df_test[\"fecha_alta_float\"] = df_test[\"fecha_alta\"].map(date_to_float)\n",
    "df_test[\"dato_minus_alta\"] = df_test[\"fecha_dato_float\"] - df_test[\"fecha_alta_float\"]\n",
    "df_test[\"int_date\"] = df_test[\"fecha_dato\"].map(date_to_int).astype(np.int8)"
   ]
  },
  {
   "cell_type": "code",
   "execution_count": 31,
   "metadata": {
    "collapsed": true
   },
   "outputs": [],
   "source": [
    "def custom_one_hot(df, name, names, dtype=np.int8, check=False):\n",
    "    for n, val in names.items():\n",
    "        new_name = \"%s_%s\" % (name, n)\n",
    "        print(name, new_name)\n",
    "        df[new_name] = df[name].map(lambda x: 1 if x == val else 0).astype(dtype)"
   ]
  },
  {
   "cell_type": "code",
   "execution_count": 32,
   "metadata": {
    "collapsed": true
   },
   "outputs": [],
   "source": [
    "onehot_columns = {}\n",
    "onehot_columns[\"indresi\"] = {\"n\":\"N\"}\n",
    "onehot_columns[\"indext\"] = {\"s\":\"S\"}\n",
    "onehot_columns[\"conyuemp\"] = {\"n\":\"N\"}\n",
    "onehot_columns[\"sexo\"] = {\"h\":\"H\", \"v\":\"V\"}\n",
    "onehot_columns[\"ind_empleado\"] = {\"a\":\"A\", \"b\":\"B\", \"f\":\"F\", \"n\":\"N\"}\n",
    "onehot_columns[\"ind_nuevo\"] = {\"new\":1}\n",
    "onehot_columns[\"segmento\"] = {\"top\":\"01 - TOP\", \"particulares\":\"02 - PARTICULARES\", \"universitario\":\"03 - UNIVERSITARIO\"}\n",
    "onehot_columns[\"indfall\"] = {\"s\":\"S\"}\n",
    "onehot_columns[\"indrel\"] = {\"1\":1, \"99\":99}\n",
    "onehot_columns[\"tiprel_1mes\"] = {\"a\":\"A\", \"i\":\"I\", \"p\":\"P\", \"r\":\"R\"}"
   ]
  },
  {
   "cell_type": "code",
   "execution_count": 36,
   "metadata": {
    "collapsed": false
   },
   "outputs": [],
   "source": [
    "multi_custom_columns = [\"indresi\", \"indext\", \"conyuemp\", \"sexo\", \"ind_empleado\", \"ind_nuevo\", \"segmento\", \n",
    " \"indfall\", \"indrel\", \"tiprel_1mes\"]"
   ]
  },
  {
   "cell_type": "code",
   "execution_count": 37,
   "metadata": {
    "collapsed": true
   },
   "outputs": [],
   "source": [
    "def multi_custom_one_hot(df):\n",
    "    for col in multi_custom_columns:\n",
    "        custom_one_hot(df, col, onehot_columns[col])"
   ]
  },
  {
   "cell_type": "code",
   "execution_count": 38,
   "metadata": {
    "collapsed": false
   },
   "outputs": [
    {
     "name": "stdout",
     "output_type": "stream",
     "text": [
      "indresi indresi_n\n",
      "indext indext_s\n",
      "conyuemp conyuemp_n\n",
      "sexo sexo_h\n",
      "sexo sexo_v\n",
      "ind_empleado ind_empleado_a\n",
      "ind_empleado ind_empleado_b\n",
      "ind_empleado ind_empleado_f\n",
      "ind_empleado ind_empleado_n\n",
      "ind_nuevo ind_nuevo_new\n",
      "segmento segmento_top\n",
      "segmento segmento_particulares\n",
      "segmento segmento_universitario\n",
      "indfall indfall_s\n",
      "indrel indrel_1\n",
      "indrel indrel_99\n",
      "tiprel_1mes tiprel_1mes_a\n",
      "tiprel_1mes tiprel_1mes_i\n",
      "tiprel_1mes tiprel_1mes_p\n",
      "tiprel_1mes tiprel_1mes_r\n",
      "indresi indresi_n\n",
      "indext indext_s\n",
      "conyuemp conyuemp_n\n",
      "sexo sexo_h\n",
      "sexo sexo_v\n",
      "ind_empleado ind_empleado_a\n",
      "ind_empleado ind_empleado_b\n",
      "ind_empleado ind_empleado_f\n",
      "ind_empleado ind_empleado_n\n",
      "ind_nuevo ind_nuevo_new\n",
      "segmento segmento_top\n",
      "segmento segmento_particulares\n",
      "segmento segmento_universitario\n",
      "indfall indfall_s\n",
      "indrel indrel_1\n",
      "indrel indrel_99\n",
      "tiprel_1mes tiprel_1mes_a\n",
      "tiprel_1mes tiprel_1mes_i\n",
      "tiprel_1mes tiprel_1mes_p\n",
      "tiprel_1mes tiprel_1mes_r\n"
     ]
    }
   ],
   "source": [
    "multi_custom_one_hot(df_train)\n",
    "multi_custom_one_hot(df_test)"
   ]
  },
  {
   "cell_type": "code",
   "execution_count": 39,
   "metadata": {
    "collapsed": true
   },
   "outputs": [],
   "source": [
    "fill_ind_actividad_cliente = lambda x: 0.0 if math.isnan(x) else x+1.0\n",
    "\n",
    "df_train[\"ind_actividad_cliente\"] = df_train[\"ind_actividad_cliente\"].map(fill_ind_actividad_cliente).astype(np.int8)\n",
    "df_test[\"ind_actividad_cliente\"] = df_test[\"ind_actividad_cliente\"].map(fill_ind_actividad_cliente).astype(np.int8)"
   ]
  },
  {
   "cell_type": "code",
   "execution_count": 40,
   "metadata": {
    "collapsed": true
   },
   "outputs": [],
   "source": [
    "fill_indrel = lambda x: 5.0 if x == \"P\" else x\n",
    "\n",
    "df_train[\"indrel_1mes\"] = df_train[\"indrel_1mes\"].map(fill_indrel).astype(float).fillna(0.0).astype(np.int8)\n",
    "df_test[\"indrel_1mes\"] = df_test[\"indrel_1mes\"].map(fill_indrel).astype(float).fillna(0.0).astype(np.int8)"
   ]
  },
  {
   "cell_type": "code",
   "execution_count": 44,
   "metadata": {
    "collapsed": false
   },
   "outputs": [
    {
     "data": {
      "text/plain": [
       "Index(['fecha_dato', 'ncodpers', 'ind_empleado', 'pais_residencia', 'sexo',\n",
       "       'age', 'fecha_alta', 'ind_nuevo', 'antiguedad', 'indrel',\n",
       "       'ult_fec_cli_1t', 'indrel_1mes', 'tiprel_1mes', 'indresi', 'indext',\n",
       "       'conyuemp', 'canal_entrada', 'indfall', 'tipodom', 'cod_prov',\n",
       "       'nomprov', 'ind_actividad_cliente', 'renta', 'segmento',\n",
       "       'ind_ahor_fin_ult1', 'ind_aval_fin_ult1', 'ind_cco_fin_ult1',\n",
       "       'ind_cder_fin_ult1', 'ind_cno_fin_ult1', 'ind_ctju_fin_ult1',\n",
       "       'ind_ctma_fin_ult1', 'ind_ctop_fin_ult1', 'ind_ctpp_fin_ult1',\n",
       "       'ind_deco_fin_ult1', 'ind_deme_fin_ult1', 'ind_dela_fin_ult1',\n",
       "       'ind_ecue_fin_ult1', 'ind_fond_fin_ult1', 'ind_hip_fin_ult1',\n",
       "       'ind_plan_fin_ult1', 'ind_pres_fin_ult1', 'ind_reca_fin_ult1',\n",
       "       'ind_tjcr_fin_ult1', 'ind_valo_fin_ult1', 'ind_viv_fin_ult1',\n",
       "       'ind_nomina_ult1', 'ind_nom_pens_ult1', 'ind_recibo_ult1', 'renta_log',\n",
       "       'fecha_dato_month', 'fecha_dato_year', 'fecha_alta_month',\n",
       "       'fecha_alta_year', 'fecha_dato_float', 'fecha_alta_float',\n",
       "       'dato_minus_alta', 'int_date', 'indresi_n', 'indext_s', 'conyuemp_n',\n",
       "       'sexo_h', 'sexo_v', 'ind_empleado_a', 'ind_empleado_b',\n",
       "       'ind_empleado_f', 'ind_empleado_n', 'ind_nuevo_new', 'segmento_top',\n",
       "       'segmento_particulares', 'segmento_universitario', 'indfall_s',\n",
       "       'indrel_1', 'indrel_99', 'tiprel_1mes_a', 'tiprel_1mes_i',\n",
       "       'tiprel_1mes_p', 'tiprel_1mes_r'],\n",
       "      dtype='object')"
      ]
     },
     "execution_count": 44,
     "metadata": {},
     "output_type": "execute_result"
    }
   ],
   "source": [
    "df_train.columns"
   ]
  },
  {
   "cell_type": "code",
   "execution_count": 2,
   "metadata": {
    "collapsed": true
   },
   "outputs": [],
   "source": [
    "df_train = pd.read_hdf('../data/train_cleaned.h5', 'santander')"
   ]
  },
  {
   "cell_type": "code",
   "execution_count": 3,
   "metadata": {
    "collapsed": true
   },
   "outputs": [],
   "source": [
    "df_test = pd.read_hdf('../data/test_cleaned.h5', 'santander')"
   ]
  },
  {
   "cell_type": "code",
   "execution_count": 4,
   "metadata": {
    "collapsed": true
   },
   "outputs": [],
   "source": [
    "def make_prev_df(train_df, step):\n",
    "    prev_df = pd.DataFrame()\n",
    "    prev_df[\"ncodpers\"] = train_df[\"ncodpers\"]\n",
    "    prev_df[\"int_date\"] = train_df[\"int_date\"].map(lambda x: x+step).astype(np.int8)\n",
    "    prod_features = [\"%s_prev%s\" % (prod, step) for prod in products]\n",
    "    for prod, prev in zip(products, prod_features):\n",
    "        prev_df[prev] = train_df[prod]\n",
    "    return prev_df, prod_features"
   ]
  },
  {
   "cell_type": "code",
   "execution_count": 7,
   "metadata": {
    "collapsed": false
   },
   "outputs": [
    {
     "name": "stdout",
     "output_type": "stream",
     "text": [
      "1\n",
      "2\n",
      "3\n",
      "4\n",
      "5\n"
     ]
    }
   ],
   "source": [
    "prev_dfs = []\n",
    "prod_features = []\n",
    "for step in range(1,6):\n",
    "    print(step)\n",
    "    prev1_train_df, prod1_features = make_prev_df(df_train, step)\n",
    "    prev_dfs.append(prev1_train_df)\n",
    "    prod_features.append(prod1_features)\n",
    "    if step == 1:\n",
    "        prod_features = prod1_features"
   ]
  },
  {
   "cell_type": "code",
   "execution_count": 8,
   "metadata": {
    "collapsed": false
   },
   "outputs": [
    {
     "data": {
      "text/html": [
       "<div>\n",
       "<table border=\"1\" class=\"dataframe\">\n",
       "  <thead>\n",
       "    <tr style=\"text-align: right;\">\n",
       "      <th></th>\n",
       "      <th>ncodpers</th>\n",
       "      <th>int_date</th>\n",
       "      <th>ind_ahor_fin_ult1_prev2</th>\n",
       "      <th>ind_aval_fin_ult1_prev2</th>\n",
       "      <th>ind_cco_fin_ult1_prev2</th>\n",
       "      <th>ind_cder_fin_ult1_prev2</th>\n",
       "      <th>ind_cno_fin_ult1_prev2</th>\n",
       "      <th>ind_ctju_fin_ult1_prev2</th>\n",
       "      <th>ind_ctma_fin_ult1_prev2</th>\n",
       "      <th>ind_ctop_fin_ult1_prev2</th>\n",
       "      <th>...</th>\n",
       "      <th>ind_hip_fin_ult1_prev2</th>\n",
       "      <th>ind_plan_fin_ult1_prev2</th>\n",
       "      <th>ind_pres_fin_ult1_prev2</th>\n",
       "      <th>ind_reca_fin_ult1_prev2</th>\n",
       "      <th>ind_tjcr_fin_ult1_prev2</th>\n",
       "      <th>ind_valo_fin_ult1_prev2</th>\n",
       "      <th>ind_viv_fin_ult1_prev2</th>\n",
       "      <th>ind_nomina_ult1_prev2</th>\n",
       "      <th>ind_nom_pens_ult1_prev2</th>\n",
       "      <th>ind_recibo_ult1_prev2</th>\n",
       "    </tr>\n",
       "  </thead>\n",
       "  <tbody>\n",
       "    <tr>\n",
       "      <th>0</th>\n",
       "      <td>1375586</td>\n",
       "      <td>3</td>\n",
       "      <td>0</td>\n",
       "      <td>0</td>\n",
       "      <td>1</td>\n",
       "      <td>0</td>\n",
       "      <td>0</td>\n",
       "      <td>0</td>\n",
       "      <td>0</td>\n",
       "      <td>0</td>\n",
       "      <td>...</td>\n",
       "      <td>0</td>\n",
       "      <td>0</td>\n",
       "      <td>0</td>\n",
       "      <td>0</td>\n",
       "      <td>0</td>\n",
       "      <td>0</td>\n",
       "      <td>0</td>\n",
       "      <td>0</td>\n",
       "      <td>0</td>\n",
       "      <td>0</td>\n",
       "    </tr>\n",
       "    <tr>\n",
       "      <th>1</th>\n",
       "      <td>1050611</td>\n",
       "      <td>3</td>\n",
       "      <td>0</td>\n",
       "      <td>0</td>\n",
       "      <td>1</td>\n",
       "      <td>0</td>\n",
       "      <td>0</td>\n",
       "      <td>0</td>\n",
       "      <td>0</td>\n",
       "      <td>0</td>\n",
       "      <td>...</td>\n",
       "      <td>0</td>\n",
       "      <td>0</td>\n",
       "      <td>0</td>\n",
       "      <td>0</td>\n",
       "      <td>0</td>\n",
       "      <td>0</td>\n",
       "      <td>0</td>\n",
       "      <td>0</td>\n",
       "      <td>0</td>\n",
       "      <td>0</td>\n",
       "    </tr>\n",
       "    <tr>\n",
       "      <th>2</th>\n",
       "      <td>1050612</td>\n",
       "      <td>3</td>\n",
       "      <td>0</td>\n",
       "      <td>0</td>\n",
       "      <td>1</td>\n",
       "      <td>0</td>\n",
       "      <td>0</td>\n",
       "      <td>0</td>\n",
       "      <td>0</td>\n",
       "      <td>0</td>\n",
       "      <td>...</td>\n",
       "      <td>0</td>\n",
       "      <td>0</td>\n",
       "      <td>0</td>\n",
       "      <td>0</td>\n",
       "      <td>0</td>\n",
       "      <td>0</td>\n",
       "      <td>0</td>\n",
       "      <td>0</td>\n",
       "      <td>0</td>\n",
       "      <td>0</td>\n",
       "    </tr>\n",
       "    <tr>\n",
       "      <th>3</th>\n",
       "      <td>1050613</td>\n",
       "      <td>3</td>\n",
       "      <td>0</td>\n",
       "      <td>0</td>\n",
       "      <td>0</td>\n",
       "      <td>0</td>\n",
       "      <td>0</td>\n",
       "      <td>0</td>\n",
       "      <td>0</td>\n",
       "      <td>0</td>\n",
       "      <td>...</td>\n",
       "      <td>0</td>\n",
       "      <td>0</td>\n",
       "      <td>0</td>\n",
       "      <td>0</td>\n",
       "      <td>0</td>\n",
       "      <td>0</td>\n",
       "      <td>0</td>\n",
       "      <td>0</td>\n",
       "      <td>0</td>\n",
       "      <td>0</td>\n",
       "    </tr>\n",
       "    <tr>\n",
       "      <th>4</th>\n",
       "      <td>1050614</td>\n",
       "      <td>3</td>\n",
       "      <td>0</td>\n",
       "      <td>0</td>\n",
       "      <td>1</td>\n",
       "      <td>0</td>\n",
       "      <td>0</td>\n",
       "      <td>0</td>\n",
       "      <td>0</td>\n",
       "      <td>0</td>\n",
       "      <td>...</td>\n",
       "      <td>0</td>\n",
       "      <td>0</td>\n",
       "      <td>0</td>\n",
       "      <td>0</td>\n",
       "      <td>0</td>\n",
       "      <td>0</td>\n",
       "      <td>0</td>\n",
       "      <td>0</td>\n",
       "      <td>0</td>\n",
       "      <td>0</td>\n",
       "    </tr>\n",
       "  </tbody>\n",
       "</table>\n",
       "<p>5 rows × 26 columns</p>\n",
       "</div>"
      ],
      "text/plain": [
       "   ncodpers  int_date  ind_ahor_fin_ult1_prev2  ind_aval_fin_ult1_prev2  \\\n",
       "0   1375586         3                        0                        0   \n",
       "1   1050611         3                        0                        0   \n",
       "2   1050612         3                        0                        0   \n",
       "3   1050613         3                        0                        0   \n",
       "4   1050614         3                        0                        0   \n",
       "\n",
       "   ind_cco_fin_ult1_prev2  ind_cder_fin_ult1_prev2  ind_cno_fin_ult1_prev2  \\\n",
       "0                       1                        0                       0   \n",
       "1                       1                        0                       0   \n",
       "2                       1                        0                       0   \n",
       "3                       0                        0                       0   \n",
       "4                       1                        0                       0   \n",
       "\n",
       "   ind_ctju_fin_ult1_prev2  ind_ctma_fin_ult1_prev2  ind_ctop_fin_ult1_prev2  \\\n",
       "0                        0                        0                        0   \n",
       "1                        0                        0                        0   \n",
       "2                        0                        0                        0   \n",
       "3                        0                        0                        0   \n",
       "4                        0                        0                        0   \n",
       "\n",
       "           ...            ind_hip_fin_ult1_prev2  ind_plan_fin_ult1_prev2  \\\n",
       "0          ...                                 0                        0   \n",
       "1          ...                                 0                        0   \n",
       "2          ...                                 0                        0   \n",
       "3          ...                                 0                        0   \n",
       "4          ...                                 0                        0   \n",
       "\n",
       "   ind_pres_fin_ult1_prev2  ind_reca_fin_ult1_prev2  ind_tjcr_fin_ult1_prev2  \\\n",
       "0                        0                        0                        0   \n",
       "1                        0                        0                        0   \n",
       "2                        0                        0                        0   \n",
       "3                        0                        0                        0   \n",
       "4                        0                        0                        0   \n",
       "\n",
       "   ind_valo_fin_ult1_prev2  ind_viv_fin_ult1_prev2  ind_nomina_ult1_prev2  \\\n",
       "0                        0                       0                      0   \n",
       "1                        0                       0                      0   \n",
       "2                        0                       0                      0   \n",
       "3                        0                       0                      0   \n",
       "4                        0                       0                      0   \n",
       "\n",
       "   ind_nom_pens_ult1_prev2  ind_recibo_ult1_prev2  \n",
       "0                        0                      0  \n",
       "1                        0                      0  \n",
       "2                        0                      0  \n",
       "3                        0                      0  \n",
       "4                        0                      0  \n",
       "\n",
       "[5 rows x 26 columns]"
      ]
     },
     "execution_count": 8,
     "metadata": {},
     "output_type": "execute_result"
    }
   ],
   "source": [
    "prev_dfs[1].head()"
   ]
  },
  {
   "cell_type": "code",
   "execution_count": 9,
   "metadata": {
    "collapsed": true
   },
   "outputs": [],
   "source": [
    "def join_with_prev(df, prev_df, how):\n",
    "    print(\"before join\", len(df))\n",
    "    df = df.merge(prev_df, on=[\"ncodpers\", \"int_date\"], how=how)\n",
    "    for f in set(prev_df.columns.values.tolist()) - set([\"ncodpers\", \"int_date\"]):\n",
    "        df[f] = df[f].astype(np.float16)\n",
    "    print(\"after join\", len(df))\n",
    "    return df"
   ]
  },
  {
   "cell_type": "code",
   "execution_count": 10,
   "metadata": {
    "collapsed": false
   },
   "outputs": [
    {
     "name": "stdout",
     "output_type": "stream",
     "text": [
      "before join 13647309\n",
      "after join 13647309\n",
      "before join 13647309\n",
      "after join 13647309\n",
      "before join 13647309\n",
      "after join 13647309\n",
      "before join 13647309\n",
      "after join 13647309\n",
      "before join 13647309\n",
      "after join 13647309\n"
     ]
    }
   ],
   "source": [
    "for i, prev_df in enumerate(prev_dfs):\n",
    "#     how = \"inner\" if i == 0 else \"left\"\n",
    "    how = 'left'\n",
    "    df_train = join_with_prev(df_train, prev_df, how=how)"
   ]
  },
  {
   "cell_type": "code",
   "execution_count": 12,
   "metadata": {
    "collapsed": false
   },
   "outputs": [
    {
     "name": "stdout",
     "output_type": "stream",
     "text": [
      "before join 929615\n",
      "after join 929615\n",
      "before join 929615\n",
      "after join 929615\n",
      "before join 929615\n",
      "after join 929615\n",
      "before join 929615\n",
      "after join 929615\n",
      "before join 929615\n",
      "after join 929615\n"
     ]
    }
   ],
   "source": [
    "for i, prev_df in enumerate(prev_dfs):\n",
    "    how = \"inner\" if i == 0 else \"left\"\n",
    "    df_test = join_with_prev(df_test, prev_df, how=how)"
   ]
  },
  {
   "cell_type": "code",
   "execution_count": 15,
   "metadata": {
    "collapsed": false
   },
   "outputs": [],
   "source": [
    "df_train.to_hdf('../data/train_cleaned2.h5', 'df', format='t', complevel=5, complib='zlib')"
   ]
  },
  {
   "cell_type": "code",
   "execution_count": 14,
   "metadata": {
    "collapsed": false
   },
   "outputs": [],
   "source": [
    "df_test.to_hdf('../data/test_cleaned2.h5', 'df', format='t', complevel=5, complib='zlib')"
   ]
  },
  {
   "cell_type": "code",
   "execution_count": 20,
   "metadata": {
    "collapsed": false
   },
   "outputs": [
    {
     "ename": "AttributeError",
     "evalue": "'list' object has no attribute 'map'",
     "output_type": "error",
     "traceback": [
      "\u001b[0;31m---------------------------------------------------------------------------\u001b[0m",
      "\u001b[0;31mAttributeError\u001b[0m                            Traceback (most recent call last)",
      "\u001b[0;32m<ipython-input-20-61605ced3c9a>\u001b[0m in \u001b[0;36m<module>\u001b[0;34m()\u001b[0m\n\u001b[0;32m----> 1\u001b[0;31m \u001b[0mset\u001b[0m\u001b[0;34m(\u001b[0m\u001b[0mprev_dfs\u001b[0m\u001b[0;34m.\u001b[0m\u001b[0mmap\u001b[0m\u001b[0;34m(\u001b[0m\u001b[0;32mlambda\u001b[0m \u001b[0mx\u001b[0m\u001b[0;34m:\u001b[0m \u001b[0mx\u001b[0m\u001b[0;34m.\u001b[0m\u001b[0mcolumns\u001b[0m\u001b[0;34m.\u001b[0m\u001b[0mvalues\u001b[0m\u001b[0;34m)\u001b[0m\u001b[0;34m)\u001b[0m\u001b[0;34m\u001b[0m\u001b[0m\n\u001b[0m",
      "\u001b[0;31mAttributeError\u001b[0m: 'list' object has no attribute 'map'"
     ]
    }
   ],
   "source": [
    "\n",
    "set(prev_dfs.map(lambda x: x.columns.values))"
   ]
  },
  {
   "cell_type": "code",
   "execution_count": 22,
   "metadata": {
    "collapsed": true
   },
   "outputs": [],
   "source": [
    "import functools"
   ]
  },
  {
   "cell_type": "code",
   "execution_count": 23,
   "metadata": {
    "collapsed": false
   },
   "outputs": [
    {
     "ename": "ValueError",
     "evalue": "can only convert an array of size 1 to a Python scalar",
     "output_type": "error",
     "traceback": [
      "\u001b[0;31m---------------------------------------------------------------------------\u001b[0m",
      "\u001b[0;31mTypeError\u001b[0m                                 Traceback (most recent call last)",
      "\u001b[0;32m/Users/patorn/.pyenv/versions/3.6.0/lib/python3.6/site-packages/pandas/core/ops.py\u001b[0m in \u001b[0;36mna_op\u001b[0;34m(x, y)\u001b[0m\n\u001b[1;32m   1169\u001b[0m             result = expressions.evaluate(op, str_rep, x, y,\n\u001b[0;32m-> 1170\u001b[0;31m                                           raise_on_error=True, **eval_kwargs)\n\u001b[0m\u001b[1;32m   1171\u001b[0m         \u001b[0;32mexcept\u001b[0m \u001b[0mTypeError\u001b[0m\u001b[0;34m:\u001b[0m\u001b[0;34m\u001b[0m\u001b[0m\n",
      "\u001b[0;32m/Users/patorn/.pyenv/versions/3.6.0/lib/python3.6/site-packages/pandas/computation/expressions.py\u001b[0m in \u001b[0;36mevaluate\u001b[0;34m(op, op_str, a, b, raise_on_error, use_numexpr, **eval_kwargs)\u001b[0m\n\u001b[1;32m    209\u001b[0m         return _evaluate(op, op_str, a, b, raise_on_error=raise_on_error,\n\u001b[0;32m--> 210\u001b[0;31m                          **eval_kwargs)\n\u001b[0m\u001b[1;32m    211\u001b[0m     \u001b[0;32mreturn\u001b[0m \u001b[0m_evaluate_standard\u001b[0m\u001b[0;34m(\u001b[0m\u001b[0mop\u001b[0m\u001b[0;34m,\u001b[0m \u001b[0mop_str\u001b[0m\u001b[0;34m,\u001b[0m \u001b[0ma\u001b[0m\u001b[0;34m,\u001b[0m \u001b[0mb\u001b[0m\u001b[0;34m,\u001b[0m \u001b[0mraise_on_error\u001b[0m\u001b[0;34m=\u001b[0m\u001b[0mraise_on_error\u001b[0m\u001b[0;34m)\u001b[0m\u001b[0;34m\u001b[0m\u001b[0m\n",
      "\u001b[0;32m/Users/patorn/.pyenv/versions/3.6.0/lib/python3.6/site-packages/pandas/computation/expressions.py\u001b[0m in \u001b[0;36m_evaluate_numexpr\u001b[0;34m(op, op_str, a, b, raise_on_error, truediv, reversed, **eval_kwargs)\u001b[0m\n\u001b[1;32m    120\u001b[0m     \u001b[0;32mif\u001b[0m \u001b[0mresult\u001b[0m \u001b[0;32mis\u001b[0m \u001b[0;32mNone\u001b[0m\u001b[0;34m:\u001b[0m\u001b[0;34m\u001b[0m\u001b[0m\n\u001b[0;32m--> 121\u001b[0;31m         \u001b[0mresult\u001b[0m \u001b[0;34m=\u001b[0m \u001b[0m_evaluate_standard\u001b[0m\u001b[0;34m(\u001b[0m\u001b[0mop\u001b[0m\u001b[0;34m,\u001b[0m \u001b[0mop_str\u001b[0m\u001b[0;34m,\u001b[0m \u001b[0ma\u001b[0m\u001b[0;34m,\u001b[0m \u001b[0mb\u001b[0m\u001b[0;34m,\u001b[0m \u001b[0mraise_on_error\u001b[0m\u001b[0;34m)\u001b[0m\u001b[0;34m\u001b[0m\u001b[0m\n\u001b[0m\u001b[1;32m    122\u001b[0m \u001b[0;34m\u001b[0m\u001b[0m\n",
      "\u001b[0;32m/Users/patorn/.pyenv/versions/3.6.0/lib/python3.6/site-packages/pandas/computation/expressions.py\u001b[0m in \u001b[0;36m_evaluate_standard\u001b[0;34m(op, op_str, a, b, raise_on_error, **eval_kwargs)\u001b[0m\n\u001b[1;32m     62\u001b[0m     \u001b[0;32mwith\u001b[0m \u001b[0mnp\u001b[0m\u001b[0;34m.\u001b[0m\u001b[0merrstate\u001b[0m\u001b[0;34m(\u001b[0m\u001b[0mall\u001b[0m\u001b[0;34m=\u001b[0m\u001b[0;34m'ignore'\u001b[0m\u001b[0;34m)\u001b[0m\u001b[0;34m:\u001b[0m\u001b[0;34m\u001b[0m\u001b[0m\n\u001b[0;32m---> 63\u001b[0;31m         \u001b[0;32mreturn\u001b[0m \u001b[0mop\u001b[0m\u001b[0;34m(\u001b[0m\u001b[0ma\u001b[0m\u001b[0;34m,\u001b[0m \u001b[0mb\u001b[0m\u001b[0;34m)\u001b[0m\u001b[0;34m\u001b[0m\u001b[0m\n\u001b[0m\u001b[1;32m     64\u001b[0m \u001b[0;34m\u001b[0m\u001b[0m\n",
      "\u001b[0;31mTypeError\u001b[0m: unsupported operand type(s) for +: 'int' and 'str'",
      "\nDuring handling of the above exception, another exception occurred:\n",
      "\u001b[0;31mValueError\u001b[0m                                Traceback (most recent call last)",
      "\u001b[0;32m<ipython-input-23-b4f2df775915>\u001b[0m in \u001b[0;36m<module>\u001b[0;34m()\u001b[0m\n\u001b[0;32m----> 1\u001b[0;31m \u001b[0mfunctools\u001b[0m\u001b[0;34m.\u001b[0m\u001b[0mreduce\u001b[0m\u001b[0;34m(\u001b[0m\u001b[0;32mlambda\u001b[0m \u001b[0mx\u001b[0m\u001b[0;34m,\u001b[0m\u001b[0my\u001b[0m\u001b[0;34m:\u001b[0m \u001b[0mx\u001b[0m\u001b[0;34m+\u001b[0m\u001b[0my\u001b[0m\u001b[0;34m.\u001b[0m\u001b[0mcolumns\u001b[0m\u001b[0;34m.\u001b[0m\u001b[0mvalues\u001b[0m\u001b[0;34m,\u001b[0m \u001b[0mprev_dfs\u001b[0m\u001b[0;34m)\u001b[0m\u001b[0;34m\u001b[0m\u001b[0m\n\u001b[0m",
      "\u001b[0;32m<ipython-input-23-b4f2df775915>\u001b[0m in \u001b[0;36m<lambda>\u001b[0;34m(x, y)\u001b[0m\n\u001b[0;32m----> 1\u001b[0;31m \u001b[0mfunctools\u001b[0m\u001b[0;34m.\u001b[0m\u001b[0mreduce\u001b[0m\u001b[0;34m(\u001b[0m\u001b[0;32mlambda\u001b[0m \u001b[0mx\u001b[0m\u001b[0;34m,\u001b[0m\u001b[0my\u001b[0m\u001b[0;34m:\u001b[0m \u001b[0mx\u001b[0m\u001b[0;34m+\u001b[0m\u001b[0my\u001b[0m\u001b[0;34m.\u001b[0m\u001b[0mcolumns\u001b[0m\u001b[0;34m.\u001b[0m\u001b[0mvalues\u001b[0m\u001b[0;34m,\u001b[0m \u001b[0mprev_dfs\u001b[0m\u001b[0;34m)\u001b[0m\u001b[0;34m\u001b[0m\u001b[0m\n\u001b[0m",
      "\u001b[0;32m/Users/patorn/.pyenv/versions/3.6.0/lib/python3.6/site-packages/pandas/core/ops.py\u001b[0m in \u001b[0;36mf\u001b[0;34m(self, other, axis, level, fill_value)\u001b[0m\n\u001b[1;32m   1228\u001b[0m             \u001b[0;32mreturn\u001b[0m \u001b[0mself\u001b[0m\u001b[0;34m.\u001b[0m\u001b[0m_combine_frame\u001b[0m\u001b[0;34m(\u001b[0m\u001b[0mother\u001b[0m\u001b[0;34m,\u001b[0m \u001b[0mna_op\u001b[0m\u001b[0;34m,\u001b[0m \u001b[0mfill_value\u001b[0m\u001b[0;34m,\u001b[0m \u001b[0mlevel\u001b[0m\u001b[0;34m)\u001b[0m\u001b[0;34m\u001b[0m\u001b[0m\n\u001b[1;32m   1229\u001b[0m         \u001b[0;32melif\u001b[0m \u001b[0misinstance\u001b[0m\u001b[0;34m(\u001b[0m\u001b[0mother\u001b[0m\u001b[0;34m,\u001b[0m \u001b[0mABCSeries\u001b[0m\u001b[0;34m)\u001b[0m\u001b[0;34m:\u001b[0m\u001b[0;34m\u001b[0m\u001b[0m\n\u001b[0;32m-> 1230\u001b[0;31m             \u001b[0;32mreturn\u001b[0m \u001b[0mself\u001b[0m\u001b[0;34m.\u001b[0m\u001b[0m_combine_series\u001b[0m\u001b[0;34m(\u001b[0m\u001b[0mother\u001b[0m\u001b[0;34m,\u001b[0m \u001b[0mna_op\u001b[0m\u001b[0;34m,\u001b[0m \u001b[0mfill_value\u001b[0m\u001b[0;34m,\u001b[0m \u001b[0maxis\u001b[0m\u001b[0;34m,\u001b[0m \u001b[0mlevel\u001b[0m\u001b[0;34m)\u001b[0m\u001b[0;34m\u001b[0m\u001b[0m\n\u001b[0m\u001b[1;32m   1231\u001b[0m         \u001b[0;32melse\u001b[0m\u001b[0;34m:\u001b[0m\u001b[0;34m\u001b[0m\u001b[0m\n\u001b[1;32m   1232\u001b[0m             \u001b[0;32mif\u001b[0m \u001b[0mfill_value\u001b[0m \u001b[0;32mis\u001b[0m \u001b[0;32mnot\u001b[0m \u001b[0;32mNone\u001b[0m\u001b[0;34m:\u001b[0m\u001b[0;34m\u001b[0m\u001b[0m\n",
      "\u001b[0;32m/Users/patorn/.pyenv/versions/3.6.0/lib/python3.6/site-packages/pandas/core/frame.py\u001b[0m in \u001b[0;36m_combine_series\u001b[0;34m(self, other, func, fill_value, axis, level)\u001b[0m\n\u001b[1;32m   3583\u001b[0m                                                    fill_value=fill_value)\n\u001b[1;32m   3584\u001b[0m         return self._combine_series_infer(other, func, level=level,\n\u001b[0;32m-> 3585\u001b[0;31m                                           fill_value=fill_value)\n\u001b[0m\u001b[1;32m   3586\u001b[0m \u001b[0;34m\u001b[0m\u001b[0m\n\u001b[1;32m   3587\u001b[0m     \u001b[0;32mdef\u001b[0m \u001b[0m_combine_series_infer\u001b[0m\u001b[0;34m(\u001b[0m\u001b[0mself\u001b[0m\u001b[0;34m,\u001b[0m \u001b[0mother\u001b[0m\u001b[0;34m,\u001b[0m \u001b[0mfunc\u001b[0m\u001b[0;34m,\u001b[0m \u001b[0mlevel\u001b[0m\u001b[0;34m=\u001b[0m\u001b[0;32mNone\u001b[0m\u001b[0;34m,\u001b[0m \u001b[0mfill_value\u001b[0m\u001b[0;34m=\u001b[0m\u001b[0;32mNone\u001b[0m\u001b[0;34m)\u001b[0m\u001b[0;34m:\u001b[0m\u001b[0;34m\u001b[0m\u001b[0m\n",
      "\u001b[0;32m/Users/patorn/.pyenv/versions/3.6.0/lib/python3.6/site-packages/pandas/core/frame.py\u001b[0m in \u001b[0;36m_combine_series_infer\u001b[0;34m(self, other, func, level, fill_value)\u001b[0m\n\u001b[1;32m   3595\u001b[0m \u001b[0;34m\u001b[0m\u001b[0m\n\u001b[1;32m   3596\u001b[0m         return self._combine_match_columns(other, func, level=level,\n\u001b[0;32m-> 3597\u001b[0;31m                                            fill_value=fill_value)\n\u001b[0m\u001b[1;32m   3598\u001b[0m \u001b[0;34m\u001b[0m\u001b[0m\n\u001b[1;32m   3599\u001b[0m     \u001b[0;32mdef\u001b[0m \u001b[0m_combine_match_index\u001b[0m\u001b[0;34m(\u001b[0m\u001b[0mself\u001b[0m\u001b[0;34m,\u001b[0m \u001b[0mother\u001b[0m\u001b[0;34m,\u001b[0m \u001b[0mfunc\u001b[0m\u001b[0;34m,\u001b[0m \u001b[0mlevel\u001b[0m\u001b[0;34m=\u001b[0m\u001b[0;32mNone\u001b[0m\u001b[0;34m,\u001b[0m \u001b[0mfill_value\u001b[0m\u001b[0;34m=\u001b[0m\u001b[0;32mNone\u001b[0m\u001b[0;34m)\u001b[0m\u001b[0;34m:\u001b[0m\u001b[0;34m\u001b[0m\u001b[0m\n",
      "\u001b[0;32m/Users/patorn/.pyenv/versions/3.6.0/lib/python3.6/site-packages/pandas/core/frame.py\u001b[0m in \u001b[0;36m_combine_match_columns\u001b[0;34m(self, other, func, level, fill_value)\u001b[0m\n\u001b[1;32m   3615\u001b[0m \u001b[0;34m\u001b[0m\u001b[0m\n\u001b[1;32m   3616\u001b[0m         new_data = left._data.eval(func=func, other=right,\n\u001b[0;32m-> 3617\u001b[0;31m                                    axes=[left.columns, self.index])\n\u001b[0m\u001b[1;32m   3618\u001b[0m         \u001b[0;32mreturn\u001b[0m \u001b[0mself\u001b[0m\u001b[0;34m.\u001b[0m\u001b[0m_constructor\u001b[0m\u001b[0;34m(\u001b[0m\u001b[0mnew_data\u001b[0m\u001b[0;34m)\u001b[0m\u001b[0;34m\u001b[0m\u001b[0m\n\u001b[1;32m   3619\u001b[0m \u001b[0;34m\u001b[0m\u001b[0m\n",
      "\u001b[0;32m/Users/patorn/.pyenv/versions/3.6.0/lib/python3.6/site-packages/pandas/core/internals.py\u001b[0m in \u001b[0;36meval\u001b[0;34m(self, **kwargs)\u001b[0m\n\u001b[1;32m   3160\u001b[0m \u001b[0;34m\u001b[0m\u001b[0m\n\u001b[1;32m   3161\u001b[0m     \u001b[0;32mdef\u001b[0m \u001b[0meval\u001b[0m\u001b[0;34m(\u001b[0m\u001b[0mself\u001b[0m\u001b[0;34m,\u001b[0m \u001b[0;34m**\u001b[0m\u001b[0mkwargs\u001b[0m\u001b[0;34m)\u001b[0m\u001b[0;34m:\u001b[0m\u001b[0;34m\u001b[0m\u001b[0m\n\u001b[0;32m-> 3162\u001b[0;31m         \u001b[0;32mreturn\u001b[0m \u001b[0mself\u001b[0m\u001b[0;34m.\u001b[0m\u001b[0mapply\u001b[0m\u001b[0;34m(\u001b[0m\u001b[0;34m'eval'\u001b[0m\u001b[0;34m,\u001b[0m \u001b[0;34m**\u001b[0m\u001b[0mkwargs\u001b[0m\u001b[0;34m)\u001b[0m\u001b[0;34m\u001b[0m\u001b[0m\n\u001b[0m\u001b[1;32m   3163\u001b[0m \u001b[0;34m\u001b[0m\u001b[0m\n\u001b[1;32m   3164\u001b[0m     \u001b[0;32mdef\u001b[0m \u001b[0mquantile\u001b[0m\u001b[0;34m(\u001b[0m\u001b[0mself\u001b[0m\u001b[0;34m,\u001b[0m \u001b[0;34m**\u001b[0m\u001b[0mkwargs\u001b[0m\u001b[0;34m)\u001b[0m\u001b[0;34m:\u001b[0m\u001b[0;34m\u001b[0m\u001b[0m\n",
      "\u001b[0;32m/Users/patorn/.pyenv/versions/3.6.0/lib/python3.6/site-packages/pandas/core/internals.py\u001b[0m in \u001b[0;36mapply\u001b[0;34m(self, f, axes, filter, do_integrity_check, consolidate, **kwargs)\u001b[0m\n\u001b[1;32m   3054\u001b[0m \u001b[0;34m\u001b[0m\u001b[0m\n\u001b[1;32m   3055\u001b[0m             \u001b[0mkwargs\u001b[0m\u001b[0;34m[\u001b[0m\u001b[0;34m'mgr'\u001b[0m\u001b[0;34m]\u001b[0m \u001b[0;34m=\u001b[0m \u001b[0mself\u001b[0m\u001b[0;34m\u001b[0m\u001b[0m\n\u001b[0;32m-> 3056\u001b[0;31m             \u001b[0mapplied\u001b[0m \u001b[0;34m=\u001b[0m \u001b[0mgetattr\u001b[0m\u001b[0;34m(\u001b[0m\u001b[0mb\u001b[0m\u001b[0;34m,\u001b[0m \u001b[0mf\u001b[0m\u001b[0;34m)\u001b[0m\u001b[0;34m(\u001b[0m\u001b[0;34m**\u001b[0m\u001b[0mkwargs\u001b[0m\u001b[0;34m)\u001b[0m\u001b[0;34m\u001b[0m\u001b[0m\n\u001b[0m\u001b[1;32m   3057\u001b[0m             \u001b[0mresult_blocks\u001b[0m \u001b[0;34m=\u001b[0m \u001b[0m_extend_blocks\u001b[0m\u001b[0;34m(\u001b[0m\u001b[0mapplied\u001b[0m\u001b[0;34m,\u001b[0m \u001b[0mresult_blocks\u001b[0m\u001b[0;34m)\u001b[0m\u001b[0;34m\u001b[0m\u001b[0m\n\u001b[1;32m   3058\u001b[0m \u001b[0;34m\u001b[0m\u001b[0m\n",
      "\u001b[0;32m/Users/patorn/.pyenv/versions/3.6.0/lib/python3.6/site-packages/pandas/core/internals.py\u001b[0m in \u001b[0;36meval\u001b[0;34m(self, func, other, raise_on_error, try_cast, mgr)\u001b[0m\n\u001b[1;32m   1157\u001b[0m         \u001b[0;32mtry\u001b[0m\u001b[0;34m:\u001b[0m\u001b[0;34m\u001b[0m\u001b[0m\n\u001b[1;32m   1158\u001b[0m             \u001b[0;32mwith\u001b[0m \u001b[0mnp\u001b[0m\u001b[0;34m.\u001b[0m\u001b[0merrstate\u001b[0m\u001b[0;34m(\u001b[0m\u001b[0mall\u001b[0m\u001b[0;34m=\u001b[0m\u001b[0;34m'ignore'\u001b[0m\u001b[0;34m)\u001b[0m\u001b[0;34m:\u001b[0m\u001b[0;34m\u001b[0m\u001b[0m\n\u001b[0;32m-> 1159\u001b[0;31m                 \u001b[0mresult\u001b[0m \u001b[0;34m=\u001b[0m \u001b[0mget_result\u001b[0m\u001b[0;34m(\u001b[0m\u001b[0mother\u001b[0m\u001b[0;34m)\u001b[0m\u001b[0;34m\u001b[0m\u001b[0m\n\u001b[0m\u001b[1;32m   1160\u001b[0m \u001b[0;34m\u001b[0m\u001b[0m\n\u001b[1;32m   1161\u001b[0m         \u001b[0;31m# if we have an invalid shape/broadcast error\u001b[0m\u001b[0;34m\u001b[0m\u001b[0;34m\u001b[0m\u001b[0m\n",
      "\u001b[0;32m/Users/patorn/.pyenv/versions/3.6.0/lib/python3.6/site-packages/pandas/core/internals.py\u001b[0m in \u001b[0;36mget_result\u001b[0;34m(other)\u001b[0m\n\u001b[1;32m   1127\u001b[0m \u001b[0;34m\u001b[0m\u001b[0m\n\u001b[1;32m   1128\u001b[0m             \u001b[0;32melse\u001b[0m\u001b[0;34m:\u001b[0m\u001b[0;34m\u001b[0m\u001b[0m\n\u001b[0;32m-> 1129\u001b[0;31m                 \u001b[0mresult\u001b[0m \u001b[0;34m=\u001b[0m \u001b[0mfunc\u001b[0m\u001b[0;34m(\u001b[0m\u001b[0mvalues\u001b[0m\u001b[0;34m,\u001b[0m \u001b[0mother\u001b[0m\u001b[0;34m)\u001b[0m\u001b[0;34m\u001b[0m\u001b[0m\n\u001b[0m\u001b[1;32m   1130\u001b[0m \u001b[0;34m\u001b[0m\u001b[0m\n\u001b[1;32m   1131\u001b[0m             \u001b[0;31m# mask if needed\u001b[0m\u001b[0;34m\u001b[0m\u001b[0;34m\u001b[0m\u001b[0m\n",
      "\u001b[0;32m/Users/patorn/.pyenv/versions/3.6.0/lib/python3.6/site-packages/pandas/core/ops.py\u001b[0m in \u001b[0;36mna_op\u001b[0;34m(x, y)\u001b[0m\n\u001b[1;32m   1182\u001b[0m                 \u001b[0;32mif\u001b[0m \u001b[0myrav\u001b[0m\u001b[0;34m.\u001b[0m\u001b[0mshape\u001b[0m \u001b[0;34m!=\u001b[0m \u001b[0mmask\u001b[0m\u001b[0;34m.\u001b[0m\u001b[0mshape\u001b[0m\u001b[0;34m:\u001b[0m\u001b[0;34m\u001b[0m\u001b[0m\n\u001b[1;32m   1183\u001b[0m                     \u001b[0myrav\u001b[0m \u001b[0;34m=\u001b[0m \u001b[0mnp\u001b[0m\u001b[0;34m.\u001b[0m\u001b[0mempty\u001b[0m\u001b[0;34m(\u001b[0m\u001b[0mmask\u001b[0m\u001b[0;34m.\u001b[0m\u001b[0mshape\u001b[0m\u001b[0;34m,\u001b[0m \u001b[0mdtype\u001b[0m\u001b[0;34m=\u001b[0m\u001b[0myrav\u001b[0m\u001b[0;34m.\u001b[0m\u001b[0mdtype\u001b[0m\u001b[0;34m)\u001b[0m\u001b[0;34m\u001b[0m\u001b[0m\n\u001b[0;32m-> 1184\u001b[0;31m                     \u001b[0myrav\u001b[0m\u001b[0;34m.\u001b[0m\u001b[0mfill\u001b[0m\u001b[0;34m(\u001b[0m\u001b[0myrav\u001b[0m\u001b[0;34m.\u001b[0m\u001b[0mitem\u001b[0m\u001b[0;34m(\u001b[0m\u001b[0;34m)\u001b[0m\u001b[0;34m)\u001b[0m\u001b[0;34m\u001b[0m\u001b[0m\n\u001b[0m\u001b[1;32m   1185\u001b[0m \u001b[0;34m\u001b[0m\u001b[0m\n\u001b[1;32m   1186\u001b[0m                 \u001b[0myrav\u001b[0m \u001b[0;34m=\u001b[0m \u001b[0myrav\u001b[0m\u001b[0;34m[\u001b[0m\u001b[0mmask\u001b[0m\u001b[0;34m]\u001b[0m\u001b[0;34m\u001b[0m\u001b[0m\n",
      "\u001b[0;31mValueError\u001b[0m: can only convert an array of size 1 to a Python scalar"
     ]
    }
   ],
   "source": [
    "functools.reduce(lambda x,y: x+y.columns.values, prev_dfs)"
   ]
  },
  {
   "cell_type": "code",
   "execution_count": 25,
   "metadata": {
    "collapsed": false
   },
   "outputs": [
    {
     "data": {
      "text/plain": [
       "{'ind_ahor_fin_ult1_prev1',\n",
       " 'ind_ahor_fin_ult1_prev2',\n",
       " 'ind_ahor_fin_ult1_prev3',\n",
       " 'ind_ahor_fin_ult1_prev4',\n",
       " 'ind_ahor_fin_ult1_prev5',\n",
       " 'ind_aval_fin_ult1_prev1',\n",
       " 'ind_aval_fin_ult1_prev2',\n",
       " 'ind_aval_fin_ult1_prev3',\n",
       " 'ind_aval_fin_ult1_prev4',\n",
       " 'ind_aval_fin_ult1_prev5',\n",
       " 'ind_cco_fin_ult1_prev1',\n",
       " 'ind_cco_fin_ult1_prev2',\n",
       " 'ind_cco_fin_ult1_prev3',\n",
       " 'ind_cco_fin_ult1_prev4',\n",
       " 'ind_cco_fin_ult1_prev5',\n",
       " 'ind_cder_fin_ult1_prev1',\n",
       " 'ind_cder_fin_ult1_prev2',\n",
       " 'ind_cder_fin_ult1_prev3',\n",
       " 'ind_cder_fin_ult1_prev4',\n",
       " 'ind_cder_fin_ult1_prev5',\n",
       " 'ind_cno_fin_ult1_prev1',\n",
       " 'ind_cno_fin_ult1_prev2',\n",
       " 'ind_cno_fin_ult1_prev3',\n",
       " 'ind_cno_fin_ult1_prev4',\n",
       " 'ind_cno_fin_ult1_prev5',\n",
       " 'ind_ctju_fin_ult1_prev1',\n",
       " 'ind_ctju_fin_ult1_prev2',\n",
       " 'ind_ctju_fin_ult1_prev3',\n",
       " 'ind_ctju_fin_ult1_prev4',\n",
       " 'ind_ctju_fin_ult1_prev5',\n",
       " 'ind_ctma_fin_ult1_prev1',\n",
       " 'ind_ctma_fin_ult1_prev2',\n",
       " 'ind_ctma_fin_ult1_prev3',\n",
       " 'ind_ctma_fin_ult1_prev4',\n",
       " 'ind_ctma_fin_ult1_prev5',\n",
       " 'ind_ctop_fin_ult1_prev1',\n",
       " 'ind_ctop_fin_ult1_prev2',\n",
       " 'ind_ctop_fin_ult1_prev3',\n",
       " 'ind_ctop_fin_ult1_prev4',\n",
       " 'ind_ctop_fin_ult1_prev5',\n",
       " 'ind_ctpp_fin_ult1_prev1',\n",
       " 'ind_ctpp_fin_ult1_prev2',\n",
       " 'ind_ctpp_fin_ult1_prev3',\n",
       " 'ind_ctpp_fin_ult1_prev4',\n",
       " 'ind_ctpp_fin_ult1_prev5',\n",
       " 'ind_deco_fin_ult1_prev1',\n",
       " 'ind_deco_fin_ult1_prev2',\n",
       " 'ind_deco_fin_ult1_prev3',\n",
       " 'ind_deco_fin_ult1_prev4',\n",
       " 'ind_deco_fin_ult1_prev5',\n",
       " 'ind_dela_fin_ult1_prev1',\n",
       " 'ind_dela_fin_ult1_prev2',\n",
       " 'ind_dela_fin_ult1_prev3',\n",
       " 'ind_dela_fin_ult1_prev4',\n",
       " 'ind_dela_fin_ult1_prev5',\n",
       " 'ind_deme_fin_ult1_prev1',\n",
       " 'ind_deme_fin_ult1_prev2',\n",
       " 'ind_deme_fin_ult1_prev3',\n",
       " 'ind_deme_fin_ult1_prev4',\n",
       " 'ind_deme_fin_ult1_prev5',\n",
       " 'ind_ecue_fin_ult1_prev1',\n",
       " 'ind_ecue_fin_ult1_prev2',\n",
       " 'ind_ecue_fin_ult1_prev3',\n",
       " 'ind_ecue_fin_ult1_prev4',\n",
       " 'ind_ecue_fin_ult1_prev5',\n",
       " 'ind_fond_fin_ult1_prev1',\n",
       " 'ind_fond_fin_ult1_prev2',\n",
       " 'ind_fond_fin_ult1_prev3',\n",
       " 'ind_fond_fin_ult1_prev4',\n",
       " 'ind_fond_fin_ult1_prev5',\n",
       " 'ind_hip_fin_ult1_prev1',\n",
       " 'ind_hip_fin_ult1_prev2',\n",
       " 'ind_hip_fin_ult1_prev3',\n",
       " 'ind_hip_fin_ult1_prev4',\n",
       " 'ind_hip_fin_ult1_prev5',\n",
       " 'ind_nom_pens_ult1_prev1',\n",
       " 'ind_nom_pens_ult1_prev2',\n",
       " 'ind_nom_pens_ult1_prev3',\n",
       " 'ind_nom_pens_ult1_prev4',\n",
       " 'ind_nom_pens_ult1_prev5',\n",
       " 'ind_nomina_ult1_prev1',\n",
       " 'ind_nomina_ult1_prev2',\n",
       " 'ind_nomina_ult1_prev3',\n",
       " 'ind_nomina_ult1_prev4',\n",
       " 'ind_nomina_ult1_prev5',\n",
       " 'ind_plan_fin_ult1_prev1',\n",
       " 'ind_plan_fin_ult1_prev2',\n",
       " 'ind_plan_fin_ult1_prev3',\n",
       " 'ind_plan_fin_ult1_prev4',\n",
       " 'ind_plan_fin_ult1_prev5',\n",
       " 'ind_pres_fin_ult1_prev1',\n",
       " 'ind_pres_fin_ult1_prev2',\n",
       " 'ind_pres_fin_ult1_prev3',\n",
       " 'ind_pres_fin_ult1_prev4',\n",
       " 'ind_pres_fin_ult1_prev5',\n",
       " 'ind_reca_fin_ult1_prev1',\n",
       " 'ind_reca_fin_ult1_prev2',\n",
       " 'ind_reca_fin_ult1_prev3',\n",
       " 'ind_reca_fin_ult1_prev4',\n",
       " 'ind_reca_fin_ult1_prev5',\n",
       " 'ind_recibo_ult1_prev1',\n",
       " 'ind_recibo_ult1_prev2',\n",
       " 'ind_recibo_ult1_prev3',\n",
       " 'ind_recibo_ult1_prev4',\n",
       " 'ind_recibo_ult1_prev5',\n",
       " 'ind_tjcr_fin_ult1_prev1',\n",
       " 'ind_tjcr_fin_ult1_prev2',\n",
       " 'ind_tjcr_fin_ult1_prev3',\n",
       " 'ind_tjcr_fin_ult1_prev4',\n",
       " 'ind_tjcr_fin_ult1_prev5',\n",
       " 'ind_valo_fin_ult1_prev1',\n",
       " 'ind_valo_fin_ult1_prev2',\n",
       " 'ind_valo_fin_ult1_prev3',\n",
       " 'ind_valo_fin_ult1_prev4',\n",
       " 'ind_valo_fin_ult1_prev5',\n",
       " 'ind_viv_fin_ult1_prev1',\n",
       " 'ind_viv_fin_ult1_prev2',\n",
       " 'ind_viv_fin_ult1_prev3',\n",
       " 'ind_viv_fin_ult1_prev4',\n",
       " 'ind_viv_fin_ult1_prev5',\n",
       " 'int_date',\n",
       " 'ncodpers'}"
      ]
     },
     "execution_count": 25,
     "metadata": {},
     "output_type": "execute_result"
    }
   ],
   "source": [
    "import itertools\n",
    "set(itertools.chain.from_iterable(prev_dfs))"
   ]
  },
  {
   "cell_type": "code",
   "execution_count": null,
   "metadata": {
    "collapsed": true
   },
   "outputs": [],
   "source": []
  }
 ],
 "metadata": {
  "kernelspec": {
   "display_name": "Python 3",
   "language": "python",
   "name": "python3"
  },
  "language_info": {
   "codemirror_mode": {
    "name": "ipython",
    "version": 3
   },
   "file_extension": ".py",
   "mimetype": "text/x-python",
   "name": "python",
   "nbconvert_exporter": "python",
   "pygments_lexer": "ipython3",
   "version": "3.6.0"
  }
 },
 "nbformat": 4,
 "nbformat_minor": 2
}
