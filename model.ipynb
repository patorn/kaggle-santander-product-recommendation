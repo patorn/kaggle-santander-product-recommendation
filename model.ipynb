{
 "cells": [
  {
   "cell_type": "code",
   "execution_count": 104,
   "metadata": {
    "collapsed": false
   },
   "outputs": [],
   "source": [
    "import numpy as np\n",
    "import pandas as pd \n",
    "import math\n",
    "import pdb\n",
    "import matplotlib.pyplot as plt\n",
    "import xgboost as xgb\n",
    "import tqdm\n",
    "import pickle\n",
    "import utils as utils\n",
    "\n",
    "%matplotlib inline"
   ]
  },
  {
   "cell_type": "code",
   "execution_count": null,
   "metadata": {
    "collapsed": false
   },
   "outputs": [],
   "source": [
    "df_train = pd.read_csv('../data/train_ver2.csv')\n",
    "df_test = pd.read_csv('../data/test_ver2.csv')"
   ]
  },
  {
   "cell_type": "code",
   "execution_count": 201,
   "metadata": {
    "collapsed": true
   },
   "outputs": [],
   "source": [
    "products = [\n",
    "    \"ind_ahor_fin_ult1\",\n",
    "    \"ind_aval_fin_ult1\",\n",
    "    \"ind_cco_fin_ult1\" ,\n",
    "    \"ind_cder_fin_ult1\",\n",
    "    \"ind_cno_fin_ult1\" ,\n",
    "    \"ind_ctju_fin_ult1\",\n",
    "    \"ind_ctma_fin_ult1\",\n",
    "    \"ind_ctop_fin_ult1\",\n",
    "    \"ind_ctpp_fin_ult1\",\n",
    "    \"ind_deco_fin_ult1\",\n",
    "    \"ind_deme_fin_ult1\",\n",
    "    \"ind_dela_fin_ult1\",\n",
    "    \"ind_ecue_fin_ult1\",\n",
    "    \"ind_fond_fin_ult1\",\n",
    "    \"ind_hip_fin_ult1\" ,\n",
    "    \"ind_plan_fin_ult1\",\n",
    "    \"ind_pres_fin_ult1\",\n",
    "    \"ind_reca_fin_ult1\",\n",
    "    \"ind_tjcr_fin_ult1\",\n",
    "    \"ind_valo_fin_ult1\",\n",
    "    \"ind_viv_fin_ult1\" ,\n",
    "    \"ind_nomina_ult1\"  ,\n",
    "    \"ind_nom_pens_ult1\",\n",
    "    \"ind_recibo_ult1\"  ,\n",
    "]"
   ]
  },
  {
   "cell_type": "code",
   "execution_count": 210,
   "metadata": {
    "collapsed": true
   },
   "outputs": [],
   "source": [
    "current_products = products[2:]"
   ]
  },
  {
   "cell_type": "markdown",
   "metadata": {},
   "source": [
    "# Cleaning"
   ]
  },
  {
   "cell_type": "code",
   "execution_count": null,
   "metadata": {
    "collapsed": false
   },
   "outputs": [],
   "source": [
    "for col in df_train:\n",
    "    if df_train[col].dtypes == object:\n",
    "        df_train[col] = df_train[col].str.strip()\n",
    "        \n",
    "for col in df_test:\n",
    "    if df_test[col].dtypes == object:\n",
    "        df_test[col] = df_test[col].str.strip()"
   ]
  },
  {
   "cell_type": "code",
   "execution_count": null,
   "metadata": {
    "collapsed": false
   },
   "outputs": [],
   "source": [
    "for prod in products:\n",
    "    df_train[prod] = df_train[prod].fillna(0).astype(np.int8)\n",
    "    df_test[prod] = 0\n",
    "    df_test[prod] = df_test[prod].astype(np.int8)"
   ]
  },
  {
   "cell_type": "code",
   "execution_count": null,
   "metadata": {
    "collapsed": false
   },
   "outputs": [],
   "source": [
    "df_train[products].isnull().any()"
   ]
  },
  {
   "cell_type": "markdown",
   "metadata": {},
   "source": [
    "# Feature Engineering"
   ]
  },
  {
   "cell_type": "markdown",
   "metadata": {},
   "source": [
    "## Lag features"
   ]
  },
  {
   "cell_type": "code",
   "execution_count": 21,
   "metadata": {
    "collapsed": true
   },
   "outputs": [],
   "source": [
    "def date_to_int(str_date):\n",
    "    Y, M, D = [int(a) for a in str_date.strip().split(\"-\")] # \"2016-05-28\"\n",
    "    int_date = (int(Y) - 2015) * 12 + int(M)\n",
    "    assert 1 <= int_date <= 12 + 6\n",
    "    return int_date"
   ]
  },
  {
   "cell_type": "code",
   "execution_count": 8,
   "metadata": {
    "collapsed": false
   },
   "outputs": [],
   "source": [
    "df_train[\"int_date\"] = df_train[\"fecha_dato\"].map(date_to_int).astype(np.int8)\n",
    "df_test[\"int_date\"] = df_test[\"fecha_dato\"].map(date_to_int).astype(np.int8)"
   ]
  },
  {
   "cell_type": "code",
   "execution_count": 9,
   "metadata": {
    "collapsed": true
   },
   "outputs": [],
   "source": [
    "def make_prev_df(train_df, step):\n",
    "    prev_df = pd.DataFrame()\n",
    "    prev_df[\"ncodpers\"] = train_df[\"ncodpers\"]\n",
    "    prev_df[\"int_date\"] = train_df[\"int_date\"].map(lambda x: x+step).astype(np.int8)\n",
    "    prod_features = [\"%s_prev%s\" % (prod, step) for prod in products]\n",
    "    for prod, prev in zip(products, prod_features):\n",
    "        prev_df[prev] = train_df[prod]\n",
    "    return prev_df, prod_features"
   ]
  },
  {
   "cell_type": "code",
   "execution_count": null,
   "metadata": {
    "collapsed": false
   },
   "outputs": [],
   "source": [
    "prev_dfs = []\n",
    "prod_features = []\n",
    "for step in range(1,6):\n",
    "    print(step)\n",
    "    prev1_train_df, prod1_features = make_prev_df(df_train, step)\n",
    "    prev_dfs.append(prev1_train_df)\n",
    "    prod_features.append(prod1_features)\n",
    "    if step == 1:\n",
    "        prod_features = prod1_features"
   ]
  },
  {
   "cell_type": "code",
   "execution_count": 11,
   "metadata": {
    "collapsed": false
   },
   "outputs": [
    {
     "data": {
      "text/html": [
       "<div>\n",
       "<table border=\"1\" class=\"dataframe\">\n",
       "  <thead>\n",
       "    <tr style=\"text-align: right;\">\n",
       "      <th></th>\n",
       "      <th>ncodpers</th>\n",
       "      <th>int_date</th>\n",
       "      <th>ind_ahor_fin_ult1_prev2</th>\n",
       "      <th>ind_aval_fin_ult1_prev2</th>\n",
       "      <th>ind_cco_fin_ult1_prev2</th>\n",
       "      <th>ind_cder_fin_ult1_prev2</th>\n",
       "      <th>ind_cno_fin_ult1_prev2</th>\n",
       "      <th>ind_ctju_fin_ult1_prev2</th>\n",
       "      <th>ind_ctma_fin_ult1_prev2</th>\n",
       "      <th>ind_ctop_fin_ult1_prev2</th>\n",
       "      <th>...</th>\n",
       "      <th>ind_hip_fin_ult1_prev2</th>\n",
       "      <th>ind_plan_fin_ult1_prev2</th>\n",
       "      <th>ind_pres_fin_ult1_prev2</th>\n",
       "      <th>ind_reca_fin_ult1_prev2</th>\n",
       "      <th>ind_tjcr_fin_ult1_prev2</th>\n",
       "      <th>ind_valo_fin_ult1_prev2</th>\n",
       "      <th>ind_viv_fin_ult1_prev2</th>\n",
       "      <th>ind_nomina_ult1_prev2</th>\n",
       "      <th>ind_nom_pens_ult1_prev2</th>\n",
       "      <th>ind_recibo_ult1_prev2</th>\n",
       "    </tr>\n",
       "  </thead>\n",
       "  <tbody>\n",
       "    <tr>\n",
       "      <th>0</th>\n",
       "      <td>1375586</td>\n",
       "      <td>3</td>\n",
       "      <td>0</td>\n",
       "      <td>0</td>\n",
       "      <td>1</td>\n",
       "      <td>0</td>\n",
       "      <td>0</td>\n",
       "      <td>0</td>\n",
       "      <td>0</td>\n",
       "      <td>0</td>\n",
       "      <td>...</td>\n",
       "      <td>0</td>\n",
       "      <td>0</td>\n",
       "      <td>0</td>\n",
       "      <td>0</td>\n",
       "      <td>0</td>\n",
       "      <td>0</td>\n",
       "      <td>0</td>\n",
       "      <td>0</td>\n",
       "      <td>0</td>\n",
       "      <td>0</td>\n",
       "    </tr>\n",
       "    <tr>\n",
       "      <th>1</th>\n",
       "      <td>1050611</td>\n",
       "      <td>3</td>\n",
       "      <td>0</td>\n",
       "      <td>0</td>\n",
       "      <td>1</td>\n",
       "      <td>0</td>\n",
       "      <td>0</td>\n",
       "      <td>0</td>\n",
       "      <td>0</td>\n",
       "      <td>0</td>\n",
       "      <td>...</td>\n",
       "      <td>0</td>\n",
       "      <td>0</td>\n",
       "      <td>0</td>\n",
       "      <td>0</td>\n",
       "      <td>0</td>\n",
       "      <td>0</td>\n",
       "      <td>0</td>\n",
       "      <td>0</td>\n",
       "      <td>0</td>\n",
       "      <td>0</td>\n",
       "    </tr>\n",
       "    <tr>\n",
       "      <th>2</th>\n",
       "      <td>1050612</td>\n",
       "      <td>3</td>\n",
       "      <td>0</td>\n",
       "      <td>0</td>\n",
       "      <td>1</td>\n",
       "      <td>0</td>\n",
       "      <td>0</td>\n",
       "      <td>0</td>\n",
       "      <td>0</td>\n",
       "      <td>0</td>\n",
       "      <td>...</td>\n",
       "      <td>0</td>\n",
       "      <td>0</td>\n",
       "      <td>0</td>\n",
       "      <td>0</td>\n",
       "      <td>0</td>\n",
       "      <td>0</td>\n",
       "      <td>0</td>\n",
       "      <td>0</td>\n",
       "      <td>0</td>\n",
       "      <td>0</td>\n",
       "    </tr>\n",
       "    <tr>\n",
       "      <th>3</th>\n",
       "      <td>1050613</td>\n",
       "      <td>3</td>\n",
       "      <td>0</td>\n",
       "      <td>0</td>\n",
       "      <td>0</td>\n",
       "      <td>0</td>\n",
       "      <td>0</td>\n",
       "      <td>0</td>\n",
       "      <td>0</td>\n",
       "      <td>0</td>\n",
       "      <td>...</td>\n",
       "      <td>0</td>\n",
       "      <td>0</td>\n",
       "      <td>0</td>\n",
       "      <td>0</td>\n",
       "      <td>0</td>\n",
       "      <td>0</td>\n",
       "      <td>0</td>\n",
       "      <td>0</td>\n",
       "      <td>0</td>\n",
       "      <td>0</td>\n",
       "    </tr>\n",
       "    <tr>\n",
       "      <th>4</th>\n",
       "      <td>1050614</td>\n",
       "      <td>3</td>\n",
       "      <td>0</td>\n",
       "      <td>0</td>\n",
       "      <td>1</td>\n",
       "      <td>0</td>\n",
       "      <td>0</td>\n",
       "      <td>0</td>\n",
       "      <td>0</td>\n",
       "      <td>0</td>\n",
       "      <td>...</td>\n",
       "      <td>0</td>\n",
       "      <td>0</td>\n",
       "      <td>0</td>\n",
       "      <td>0</td>\n",
       "      <td>0</td>\n",
       "      <td>0</td>\n",
       "      <td>0</td>\n",
       "      <td>0</td>\n",
       "      <td>0</td>\n",
       "      <td>0</td>\n",
       "    </tr>\n",
       "  </tbody>\n",
       "</table>\n",
       "<p>5 rows × 26 columns</p>\n",
       "</div>"
      ],
      "text/plain": [
       "   ncodpers  int_date  ind_ahor_fin_ult1_prev2  ind_aval_fin_ult1_prev2  \\\n",
       "0   1375586         3                        0                        0   \n",
       "1   1050611         3                        0                        0   \n",
       "2   1050612         3                        0                        0   \n",
       "3   1050613         3                        0                        0   \n",
       "4   1050614         3                        0                        0   \n",
       "\n",
       "   ind_cco_fin_ult1_prev2  ind_cder_fin_ult1_prev2  ind_cno_fin_ult1_prev2  \\\n",
       "0                       1                        0                       0   \n",
       "1                       1                        0                       0   \n",
       "2                       1                        0                       0   \n",
       "3                       0                        0                       0   \n",
       "4                       1                        0                       0   \n",
       "\n",
       "   ind_ctju_fin_ult1_prev2  ind_ctma_fin_ult1_prev2  ind_ctop_fin_ult1_prev2  \\\n",
       "0                        0                        0                        0   \n",
       "1                        0                        0                        0   \n",
       "2                        0                        0                        0   \n",
       "3                        0                        0                        0   \n",
       "4                        0                        0                        0   \n",
       "\n",
       "           ...            ind_hip_fin_ult1_prev2  ind_plan_fin_ult1_prev2  \\\n",
       "0          ...                                 0                        0   \n",
       "1          ...                                 0                        0   \n",
       "2          ...                                 0                        0   \n",
       "3          ...                                 0                        0   \n",
       "4          ...                                 0                        0   \n",
       "\n",
       "   ind_pres_fin_ult1_prev2  ind_reca_fin_ult1_prev2  ind_tjcr_fin_ult1_prev2  \\\n",
       "0                        0                        0                        0   \n",
       "1                        0                        0                        0   \n",
       "2                        0                        0                        0   \n",
       "3                        0                        0                        0   \n",
       "4                        0                        0                        0   \n",
       "\n",
       "   ind_valo_fin_ult1_prev2  ind_viv_fin_ult1_prev2  ind_nomina_ult1_prev2  \\\n",
       "0                        0                       0                      0   \n",
       "1                        0                       0                      0   \n",
       "2                        0                       0                      0   \n",
       "3                        0                       0                      0   \n",
       "4                        0                       0                      0   \n",
       "\n",
       "   ind_nom_pens_ult1_prev2  ind_recibo_ult1_prev2  \n",
       "0                        0                      0  \n",
       "1                        0                      0  \n",
       "2                        0                      0  \n",
       "3                        0                      0  \n",
       "4                        0                      0  \n",
       "\n",
       "[5 rows x 26 columns]"
      ]
     },
     "execution_count": 11,
     "metadata": {},
     "output_type": "execute_result"
    }
   ],
   "source": [
    "prev_dfs[1].head()"
   ]
  },
  {
   "cell_type": "code",
   "execution_count": 12,
   "metadata": {
    "collapsed": true
   },
   "outputs": [],
   "source": [
    "def join_with_prev(df, prev_df, how):\n",
    "    print(\"before join\", len(df))\n",
    "    df = df.merge(prev_df, on=[\"ncodpers\", \"int_date\"], how=how)\n",
    "    for f in set(prev_df.columns.values.tolist()) - set([\"ncodpers\", \"int_date\"]):\n",
    "        df[f] = df[f].astype(np.float16)\n",
    "    print(\"after join\", len(df))\n",
    "    return df"
   ]
  },
  {
   "cell_type": "code",
   "execution_count": 13,
   "metadata": {
    "collapsed": false
   },
   "outputs": [
    {
     "name": "stdout",
     "output_type": "stream",
     "text": [
      "before join 13647309\n",
      "after join 13647309\n",
      "before join 13647309\n",
      "after join 13647309\n",
      "before join 13647309\n",
      "after join 13647309\n",
      "before join 13647309\n",
      "after join 13647309\n",
      "before join 13647309\n",
      "after join 13647309\n"
     ]
    }
   ],
   "source": [
    "for i, prev_df in enumerate(prev_dfs):\n",
    "#     how = \"inner\" if i == 0 else \"left\"\n",
    "    how = 'left'\n",
    "    df_train = join_with_prev(df_train, prev_df, how=how)"
   ]
  },
  {
   "cell_type": "code",
   "execution_count": 14,
   "metadata": {
    "collapsed": false
   },
   "outputs": [
    {
     "name": "stdout",
     "output_type": "stream",
     "text": [
      "before join 929615\n",
      "after join 929615\n",
      "before join 929615\n",
      "after join 929615\n",
      "before join 929615\n",
      "after join 929615\n",
      "before join 929615\n",
      "after join 929615\n",
      "before join 929615\n",
      "after join 929615\n"
     ]
    }
   ],
   "source": [
    "for i, prev_df in enumerate(prev_dfs):\n",
    "    how = \"inner\" if i == 0 else \"left\"\n",
    "    df_test = join_with_prev(df_test, prev_df, how=how)"
   ]
  },
  {
   "cell_type": "code",
   "execution_count": null,
   "metadata": {
    "collapsed": true
   },
   "outputs": [],
   "source": [
    "df_train.to_hdf('../data/train_cleaned2.h5', 'df')\n",
    "df_test.to_hdf('../data/test_cleaned2.h5', 'df')"
   ]
  },
  {
   "cell_type": "code",
   "execution_count": 3,
   "metadata": {
    "collapsed": false
   },
   "outputs": [],
   "source": [
    "df_train = pd.read_hdf('../data/train_cleaned2.h5', 'df')\n",
    "df_test = pd.read_hdf('../data/test_cleaned2.h5', 'df')"
   ]
  },
  {
   "cell_type": "markdown",
   "metadata": {},
   "source": [
    "## canal_entrada (Label)"
   ]
  },
  {
   "cell_type": "code",
   "execution_count": 4,
   "metadata": {
    "collapsed": true
   },
   "outputs": [],
   "source": [
    "from sklearn.preprocessing import LabelEncoder"
   ]
  },
  {
   "cell_type": "code",
   "execution_count": 5,
   "metadata": {
    "collapsed": false
   },
   "outputs": [],
   "source": [
    "name = 'canal_entrada'\n",
    "transformer = LabelEncoder()\n",
    "\n",
    "df_train[name] = df_train[name].astype('str')\n",
    "df_train[name] = transformer.fit_transform(df_train[name])\n",
    "df_test[name] = df_test[name].astype('str')\n",
    "df_test[name] = transformer.transform(df_test[name])"
   ]
  },
  {
   "cell_type": "code",
   "execution_count": 6,
   "metadata": {
    "collapsed": false
   },
   "outputs": [
    {
     "data": {
      "text/plain": [
       "array([  0,   1,   2,   3,   4,   5,   6,   7,   8,   9,  10,  11,  12,\n",
       "        13,  14,  15,  16,  17,  18,  19,  20,  21,  22,  23,  24,  25,\n",
       "        26,  27,  28,  29,  30,  31,  32,  33,  34,  35,  36,  37,  38,\n",
       "        39,  40,  41,  42,  43,  44,  45,  46,  47,  48,  49,  50,  51,\n",
       "        52,  53,  54,  55,  56,  57,  58,  59,  60,  61,  62,  63,  64,\n",
       "        65,  66,  67,  68,  69,  70,  71,  72,  73,  74,  75,  76,  77,\n",
       "        78,  79,  80,  81,  82,  83,  84,  85,  86,  87,  88,  89,  90,\n",
       "        91,  92,  93,  94,  95,  96,  97,  98,  99, 100, 101, 102, 103,\n",
       "       104, 105, 106, 107, 108, 109, 110, 111, 112, 113, 114, 115, 116,\n",
       "       117, 118, 119, 120, 121, 122, 123, 124, 125, 126, 127, 128, 129,\n",
       "       130, 131, 132, 133, 134, 135, 136, 137, 138, 139, 140, 141, 142,\n",
       "       143, 144, 145, 146, 147, 148, 149, 150, 151, 152, 153, 154, 155,\n",
       "       156, 157, 158, 159, 160, 161, 162])"
      ]
     },
     "execution_count": 6,
     "metadata": {},
     "output_type": "execute_result"
    }
   ],
   "source": [
    "np.array(sorted(pd.unique(df_train['canal_entrada'])))"
   ]
  },
  {
   "cell_type": "markdown",
   "metadata": {},
   "source": [
    "## pais_residencia"
   ]
  },
  {
   "cell_type": "code",
   "execution_count": 7,
   "metadata": {
    "collapsed": false
   },
   "outputs": [],
   "source": [
    "name = 'pais_residencia'\n",
    "transformer = LabelEncoder()\n",
    "\n",
    "df_train[name] = df_train[name].astype('str')\n",
    "df_train[name] = transformer.fit_transform(df_train[name])\n",
    "df_test[name] = df_test[name].astype('str')\n",
    "df_test[name] = transformer.transform(df_test[name])"
   ]
  },
  {
   "cell_type": "markdown",
   "metadata": {},
   "source": [
    "## Others"
   ]
  },
  {
   "cell_type": "code",
   "execution_count": 8,
   "metadata": {
    "collapsed": false
   },
   "outputs": [
    {
     "data": {
      "text/plain": [
       "0"
      ]
     },
     "execution_count": 8,
     "metadata": {},
     "output_type": "execute_result"
    }
   ],
   "source": [
    "df_train[\"age\"] = df_train[\"age\"].replace('NA', np.nan)\n",
    "len(df_train[df_train[\"age\"] == 'NA'])"
   ]
  },
  {
   "cell_type": "code",
   "execution_count": 9,
   "metadata": {
    "collapsed": true
   },
   "outputs": [],
   "source": [
    "df_train[\"age\"] = pd.to_numeric(df_train[\"age\"], errors='coerce')"
   ]
  },
  {
   "cell_type": "code",
   "execution_count": 10,
   "metadata": {
    "collapsed": false
   },
   "outputs": [],
   "source": [
    "df_train[\"age\"] = df_train[\"age\"].fillna(0.0).astype(np.int16)\n",
    "df_test[\"age\"] = df_test[\"age\"].fillna(0.0).astype(np.int16)"
   ]
  },
  {
   "cell_type": "code",
   "execution_count": 11,
   "metadata": {
    "collapsed": true
   },
   "outputs": [],
   "source": [
    "df_train[\"tipodom\"] = df_train[\"tipodom\"].fillna(0.0).astype(np.int8)\n",
    "df_test[\"tipodom\"] = df_test[\"tipodom\"].fillna(0.0).astype(np.int8)"
   ]
  },
  {
   "cell_type": "code",
   "execution_count": 12,
   "metadata": {
    "collapsed": true
   },
   "outputs": [],
   "source": [
    "df_train[\"cod_prov\"] = df_train[\"cod_prov\"].fillna(0.0).astype(np.int8)\n",
    "df_test[\"cod_prov\"] = df_test[\"cod_prov\"].fillna(0.0).astype(np.int8)"
   ]
  },
  {
   "cell_type": "code",
   "execution_count": 13,
   "metadata": {
    "collapsed": false
   },
   "outputs": [
    {
     "data": {
      "text/plain": [
       "0"
      ]
     },
     "execution_count": 13,
     "metadata": {},
     "output_type": "execute_result"
    }
   ],
   "source": [
    "df_train[\"antiguedad\"] = df_train[\"antiguedad\"].replace('NA', np.nan)\n",
    "len(df_train[df_train[\"antiguedad\"] == 'NA'])"
   ]
  },
  {
   "cell_type": "code",
   "execution_count": 14,
   "metadata": {
    "collapsed": false
   },
   "outputs": [],
   "source": [
    "df_train[\"antiguedad\"] = pd.to_numeric(df_train[\"antiguedad\"], errors='coerce')"
   ]
  },
  {
   "cell_type": "code",
   "execution_count": 15,
   "metadata": {
    "collapsed": false
   },
   "outputs": [],
   "source": [
    "onehot = lambda x: 0.0 if x < 0 or math.isnan(x) else x+1.0\n",
    "\n",
    "df_train[\"antiguedad\"] = df_train[\"antiguedad\"].map(onehot).astype(np.int16)\n",
    "df_test[\"antiguedad\"] = df_test[\"antiguedad\"].map(onehot).astype(np.int16)"
   ]
  },
  {
   "cell_type": "code",
   "execution_count": 16,
   "metadata": {
    "collapsed": false
   },
   "outputs": [],
   "source": [
    "df_test[\"renta\"]   = pd.to_numeric(df_test[\"renta\"], errors=\"coerce\")\n",
    "unique_prov = df_test[df_test.cod_prov.notnull()].cod_prov.unique()\n",
    "grouped = df_test.groupby(\"cod_prov\")[\"renta\"].median()\n",
    "\n",
    "def impute_renta(df):\n",
    "    df[\"renta\"]   = pd.to_numeric(df[\"renta\"], errors=\"coerce\")       \n",
    "    for cod in unique_prov:\n",
    "        df.loc[df['cod_prov']==cod,['renta']] = df.loc[df['cod_prov']==cod,['renta']].fillna({'renta':grouped[cod]}).values\n",
    "    df.renta.fillna(df_test[\"renta\"].median(), inplace=True)\n",
    "    \n",
    "impute_renta(df_train)\n",
    "impute_renta(df_test)"
   ]
  },
  {
   "cell_type": "code",
   "execution_count": 17,
   "metadata": {
    "collapsed": true
   },
   "outputs": [],
   "source": [
    "f_dato_m = lambda x: int(x.split(\"-\")[1])\n",
    "f_dato_y = lambda x: float(x.split(\"-\")[0])\n",
    "\n",
    "df_train[\"fecha_dato_month\"] = df_train[\"fecha_dato\"].map(f_dato_m).astype(np.int8)\n",
    "df_train[\"fecha_dato_year\"] = df_train[\"fecha_dato\"].map(f_dato_y).astype(np.int16)\n",
    "\n",
    "df_test[\"fecha_dato_month\"] = df_test[\"fecha_dato\"].map(f_dato_m).astype(np.int8)\n",
    "df_test[\"fecha_dato_year\"] = df_test[\"fecha_dato\"].map(f_dato_y).astype(np.int16)"
   ]
  },
  {
   "cell_type": "code",
   "execution_count": 18,
   "metadata": {
    "collapsed": true
   },
   "outputs": [],
   "source": [
    "f_alta_m = lambda x: 0.0 if x.__class__ is float else float(x.split(\"-\")[1])\n",
    "f_alta_y = lambda x: 0.0 if x.__class__ is float else float(x.split(\"-\")[0])\n",
    "\n",
    "df_train[\"fecha_alta_month\"] = df_train[\"fecha_alta\"].map(f_alta_m).astype(np.int8)\n",
    "df_train[\"fecha_alta_year\"] = df_train[\"fecha_alta\"].map(f_alta_y).astype(np.int16)\n",
    "\n",
    "df_test[\"fecha_alta_month\"] = df_test[\"fecha_alta\"].map(f_alta_m).astype(np.int8)\n",
    "df_test[\"fecha_alta_year\"] = df_test[\"fecha_alta\"].map(f_alta_y).astype(np.int16)"
   ]
  },
  {
   "cell_type": "code",
   "execution_count": 19,
   "metadata": {
    "collapsed": true
   },
   "outputs": [],
   "source": [
    "# \"2016-05-28\" or \"\" or nan\n",
    "def date_to_float(str_date):\n",
    "    if str_date.__class__ is float and math.isnan(str_date) or str_date == \"\":\n",
    "        return np.nan\n",
    "    Y, M, D = [int(a) for a in str_date.strip().split(\"-\")]\n",
    "    float_date = float(Y) * 12 + float(M)\n",
    "    return float_date"
   ]
  },
  {
   "cell_type": "code",
   "execution_count": 23,
   "metadata": {
    "collapsed": false
   },
   "outputs": [],
   "source": [
    "df_train[\"fecha_dato_float\"] = df_train[\"fecha_dato\"].map(date_to_float)\n",
    "df_train[\"fecha_alta_float\"] = df_train[\"fecha_alta\"].map(date_to_float)\n",
    "df_train[\"dato_minus_alta\"] = df_train[\"fecha_dato_float\"] - df_train[\"fecha_alta_float\"]\n",
    "\n",
    "df_test[\"fecha_dato_float\"] = df_test[\"fecha_dato\"].map(date_to_float)\n",
    "df_test[\"fecha_alta_float\"] = df_test[\"fecha_alta\"].map(date_to_float)\n",
    "df_test[\"dato_minus_alta\"] = df_test[\"fecha_dato_float\"] - df_test[\"fecha_alta_float\"]"
   ]
  },
  {
   "cell_type": "code",
   "execution_count": 24,
   "metadata": {
    "collapsed": true
   },
   "outputs": [],
   "source": [
    "def custom_one_hot(df, name, names, dtype=np.int8, check=False):\n",
    "    for n, val in names.items():\n",
    "        new_name = \"%s_%s\" % (name, n)\n",
    "        print(name, new_name)\n",
    "        df[new_name] = df[name].map(lambda x: 1 if x == val else 0).astype(dtype)"
   ]
  },
  {
   "cell_type": "code",
   "execution_count": 25,
   "metadata": {
    "collapsed": true
   },
   "outputs": [],
   "source": [
    "onehot_columns = {}\n",
    "onehot_columns[\"indresi\"] = {\"n\":\"N\"}\n",
    "onehot_columns[\"indext\"] = {\"s\":\"S\"}\n",
    "onehot_columns[\"conyuemp\"] = {\"n\":\"N\"}\n",
    "onehot_columns[\"sexo\"] = {\"h\":\"H\", \"v\":\"V\"}\n",
    "onehot_columns[\"ind_empleado\"] = {\"a\":\"A\", \"b\":\"B\", \"f\":\"F\", \"n\":\"N\"}\n",
    "onehot_columns[\"ind_nuevo\"] = {\"new\":1}\n",
    "onehot_columns[\"segmento\"] = {\"top\":\"01 - TOP\", \"particulares\":\"02 - PARTICULARES\", \"universitario\":\"03 - UNIVERSITARIO\"}\n",
    "onehot_columns[\"indfall\"] = {\"s\":\"S\"}\n",
    "onehot_columns[\"indrel\"] = {\"1\":1, \"99\":99}\n",
    "onehot_columns[\"tiprel_1mes\"] = {\"a\":\"A\", \"i\":\"I\", \"p\":\"P\", \"r\":\"R\"}"
   ]
  },
  {
   "cell_type": "code",
   "execution_count": 26,
   "metadata": {
    "collapsed": false
   },
   "outputs": [],
   "source": [
    "multi_custom_columns = [\"indresi\", \"indext\", \"conyuemp\", \"sexo\", \"ind_empleado\", \"ind_nuevo\", \"segmento\", \n",
    " \"indfall\", \"indrel\", \"tiprel_1mes\"]"
   ]
  },
  {
   "cell_type": "code",
   "execution_count": 27,
   "metadata": {
    "collapsed": true
   },
   "outputs": [],
   "source": [
    "def multi_custom_one_hot(df):\n",
    "    for col in multi_custom_columns:\n",
    "        custom_one_hot(df, col, onehot_columns[col])"
   ]
  },
  {
   "cell_type": "code",
   "execution_count": 28,
   "metadata": {
    "collapsed": false
   },
   "outputs": [
    {
     "name": "stdout",
     "output_type": "stream",
     "text": [
      "indresi indresi_n\n",
      "indext indext_s\n",
      "conyuemp conyuemp_n\n",
      "sexo sexo_h\n",
      "sexo sexo_v\n",
      "ind_empleado ind_empleado_a\n",
      "ind_empleado ind_empleado_b\n",
      "ind_empleado ind_empleado_f\n",
      "ind_empleado ind_empleado_n\n",
      "ind_nuevo ind_nuevo_new\n",
      "segmento segmento_top\n",
      "segmento segmento_particulares\n",
      "segmento segmento_universitario\n",
      "indfall indfall_s\n",
      "indrel indrel_1\n",
      "indrel indrel_99\n",
      "tiprel_1mes tiprel_1mes_a\n",
      "tiprel_1mes tiprel_1mes_i\n",
      "tiprel_1mes tiprel_1mes_p\n",
      "tiprel_1mes tiprel_1mes_r\n",
      "indresi indresi_n\n",
      "indext indext_s\n",
      "conyuemp conyuemp_n\n",
      "sexo sexo_h\n",
      "sexo sexo_v\n",
      "ind_empleado ind_empleado_a\n",
      "ind_empleado ind_empleado_b\n",
      "ind_empleado ind_empleado_f\n",
      "ind_empleado ind_empleado_n\n",
      "ind_nuevo ind_nuevo_new\n",
      "segmento segmento_top\n",
      "segmento segmento_particulares\n",
      "segmento segmento_universitario\n",
      "indfall indfall_s\n",
      "indrel indrel_1\n",
      "indrel indrel_99\n",
      "tiprel_1mes tiprel_1mes_a\n",
      "tiprel_1mes tiprel_1mes_i\n",
      "tiprel_1mes tiprel_1mes_p\n",
      "tiprel_1mes tiprel_1mes_r\n"
     ]
    }
   ],
   "source": [
    "multi_custom_one_hot(df_train)\n",
    "multi_custom_one_hot(df_test)"
   ]
  },
  {
   "cell_type": "code",
   "execution_count": 29,
   "metadata": {
    "collapsed": true
   },
   "outputs": [],
   "source": [
    "fill_ind_actividad_cliente = lambda x: 0.0 if math.isnan(x) else x+1.0\n",
    "\n",
    "df_train[\"ind_actividad_cliente\"] = df_train[\"ind_actividad_cliente\"].map(fill_ind_actividad_cliente).astype(np.int8)\n",
    "df_test[\"ind_actividad_cliente\"] = df_test[\"ind_actividad_cliente\"].map(fill_ind_actividad_cliente).astype(np.int8)"
   ]
  },
  {
   "cell_type": "code",
   "execution_count": 30,
   "metadata": {
    "collapsed": true
   },
   "outputs": [],
   "source": [
    "fill_indrel = lambda x: 5.0 if x == \"P\" else x\n",
    "\n",
    "df_train[\"indrel_1mes\"] = df_train[\"indrel_1mes\"].map(fill_indrel).astype(float).fillna(0.0).astype(np.int8)\n",
    "df_test[\"indrel_1mes\"] = df_test[\"indrel_1mes\"].map(fill_indrel).astype(float).fillna(0.0).astype(np.int8)"
   ]
  },
  {
   "cell_type": "code",
   "execution_count": 32,
   "metadata": {
    "collapsed": false
   },
   "outputs": [
    {
     "name": "stderr",
     "output_type": "stream",
     "text": [
      "/Users/patorn/.pyenv/versions/3.6.0/lib/python3.6/site-packages/pandas/core/generic.py:1138: PerformanceWarning: \n",
      "your performance may suffer as PyTables will pickle object types that it cannot\n",
      "map directly to c-types [inferred_type->mixed,key->block5_values] [items->['fecha_dato', 'ind_empleado', 'sexo', 'fecha_alta', 'ult_fec_cli_1t', 'tiprel_1mes', 'indresi', 'indext', 'conyuemp', 'indfall', 'nomprov', 'segmento']]\n",
      "\n",
      "  return pytables.to_hdf(path_or_buf, key, self, **kwargs)\n"
     ]
    }
   ],
   "source": [
    "df_train.to_hdf('../data/train_featured2.h5', 'df')\n",
    "df_test.to_hdf('../data/test_featured2.h5', 'df')"
   ]
  },
  {
   "cell_type": "markdown",
   "metadata": {},
   "source": [
    "# Data from one month only"
   ]
  },
  {
   "cell_type": "code",
   "execution_count": 260,
   "metadata": {
    "collapsed": false
   },
   "outputs": [
    {
     "name": "stdout",
     "output_type": "stream",
     "text": [
      "(631957, array(['2015-05-28'], dtype=object))\n"
     ]
    }
   ],
   "source": [
    "x_train = df_train[(df_train['int_date'] == 5)]\n",
    "len_x_train = len(x_train)\n",
    "print((len_x_train, pd.unique(x_train['fecha_dato'])))"
   ]
  },
  {
   "cell_type": "code",
   "execution_count": 261,
   "metadata": {
    "collapsed": false
   },
   "outputs": [
    {
     "name": "stderr",
     "output_type": "stream",
     "text": [
      "/Users/patorn/.pyenv/versions/3.6.0/lib/python3.6/site-packages/pandas/core/frame.py:2440: SettingWithCopyWarning: \n",
      "A value is trying to be set on a copy of a slice from a DataFrame.\n",
      "Try using .loc[row_indexer,col_indexer] = value instead\n",
      "\n",
      "See the caveats in the documentation: http://pandas.pydata.org/pandas-docs/stable/indexing.html#indexing-view-versus-copy\n",
      "  self[k1] = value[k2]\n",
      "/Users/patorn/.pyenv/versions/3.6.0/lib/python3.6/site-packages/pandas/core/indexing.py:297: SettingWithCopyWarning: \n",
      "A value is trying to be set on a copy of a slice from a DataFrame.\n",
      "Try using .loc[row_indexer,col_indexer] = value instead\n",
      "\n",
      "See the caveats in the documentation: http://pandas.pydata.org/pandas-docs/stable/indexing.html#indexing-view-versus-copy\n",
      "  self.obj[key] = _infer_fill_value(value)\n",
      "/Users/patorn/.pyenv/versions/3.6.0/lib/python3.6/site-packages/pandas/core/indexing.py:477: SettingWithCopyWarning: \n",
      "A value is trying to be set on a copy of a slice from a DataFrame.\n",
      "Try using .loc[row_indexer,col_indexer] = value instead\n",
      "\n",
      "See the caveats in the documentation: http://pandas.pydata.org/pandas-docs/stable/indexing.html#indexing-view-versus-copy\n",
      "  self.obj[item] = s\n"
     ]
    },
    {
     "data": {
      "text/plain": [
       "21.0    7183\n",
       "0.0     5355\n",
       "16.0    4191\n",
       "19.0    3430\n",
       "20.0    3409\n",
       "2.0     1987\n",
       "10.0    1480\n",
       "9.0     1005\n",
       "11.0     438\n",
       "7.0      435\n",
       "15.0     343\n",
       "4.0      308\n",
       "5.0      298\n",
       "17.0     213\n",
       "6.0      174\n",
       "3.0       84\n",
       "8.0       25\n",
       "13.0      24\n",
       "14.0      13\n",
       "12.0      11\n",
       "1.0        7\n",
       "18.0       4\n",
       "Name: target, dtype: int64"
      ]
     },
     "execution_count": 261,
     "metadata": {},
     "output_type": "execute_result"
    }
   ],
   "source": [
    "x_train = utils.create_train_with_target(x_train, current_products)\n",
    "x_train['target'].value_counts()"
   ]
  },
  {
   "cell_type": "markdown",
   "metadata": {
    "collapsed": true
   },
   "source": [
    "# Model"
   ]
  },
  {
   "cell_type": "code",
   "execution_count": 262,
   "metadata": {
    "collapsed": false
   },
   "outputs": [],
   "source": [
    "def xgboost(X, Y, num_round, param):\n",
    "    progress = dict()\n",
    "    plst = list(param.items())\n",
    "    xgtrain = xgb.DMatrix(X, label=Y)\n",
    "    watchlist  = [(xgtrain,'train')]\n",
    "    model = xgb.train(plst, xgtrain, num_round, watchlist, evals_result=progress)\n",
    "    return (model, progress)"
   ]
  },
  {
   "cell_type": "code",
   "execution_count": 338,
   "metadata": {
    "collapsed": true
   },
   "outputs": [],
   "source": [
    "param = {\n",
    "    'objective': 'multi:softprob',\n",
    "    'eta': 0.05,\n",
    "    'max_depth': 8,\n",
    "    'silent': 1,\n",
    "    'eval_metric': \"mlogloss\",\n",
    "    'min_child_weight': 1,\n",
    "    'subsample': 0.7,\n",
    "    'colsample_bytree': 0.7,\n",
    "    'seed': 0,\n",
    "    'num_class': len(current_products),\n",
    "}"
   ]
  },
  {
   "cell_type": "code",
   "execution_count": 302,
   "metadata": {
    "collapsed": false
   },
   "outputs": [],
   "source": [
    "drop_products = []\n",
    "for step in range(1,6):\n",
    "    for product in products[:2]:\n",
    "        drop_products.append(product + '_prev' + str(step))"
   ]
  },
  {
   "cell_type": "code",
   "execution_count": 303,
   "metadata": {
    "collapsed": false
   },
   "outputs": [],
   "source": [
    "drop_columns = ['target','ncodpers', 'fecha_dato', 'ult_fec_cli_1t', 'nomprov', 'int_date',\n",
    "          'indresi', 'indext', 'conyuemp', 'indfall', 'tiprel_1mes', 'ind_nuevo', 'fecha_alta', \n",
    "          'sexo', 'ind_empleado', 'segmento'\n",
    "        ]"
   ]
  },
  {
   "cell_type": "code",
   "execution_count": 304,
   "metadata": {
    "collapsed": false
   },
   "outputs": [
    {
     "data": {
      "text/plain": [
       "array(['pais_residencia', 'age', 'antiguedad', 'indrel', 'indrel_1mes',\n",
       "       'canal_entrada', 'tipodom', 'cod_prov', 'ind_actividad_cliente',\n",
       "       'renta', 'ind_cco_fin_ult1_prev1', 'ind_cder_fin_ult1_prev1',\n",
       "       'ind_cno_fin_ult1_prev1', 'ind_ctju_fin_ult1_prev1',\n",
       "       'ind_ctma_fin_ult1_prev1', 'ind_ctop_fin_ult1_prev1',\n",
       "       'ind_ctpp_fin_ult1_prev1', 'ind_deco_fin_ult1_prev1',\n",
       "       'ind_deme_fin_ult1_prev1', 'ind_dela_fin_ult1_prev1',\n",
       "       'ind_ecue_fin_ult1_prev1', 'ind_fond_fin_ult1_prev1',\n",
       "       'ind_hip_fin_ult1_prev1', 'ind_plan_fin_ult1_prev1',\n",
       "       'ind_pres_fin_ult1_prev1', 'ind_reca_fin_ult1_prev1',\n",
       "       'ind_tjcr_fin_ult1_prev1', 'ind_valo_fin_ult1_prev1',\n",
       "       'ind_viv_fin_ult1_prev1', 'ind_nomina_ult1_prev1',\n",
       "       'ind_nom_pens_ult1_prev1', 'ind_recibo_ult1_prev1',\n",
       "       'ind_cco_fin_ult1_prev2', 'ind_cder_fin_ult1_prev2',\n",
       "       'ind_cno_fin_ult1_prev2', 'ind_ctju_fin_ult1_prev2',\n",
       "       'ind_ctma_fin_ult1_prev2', 'ind_ctop_fin_ult1_prev2',\n",
       "       'ind_ctpp_fin_ult1_prev2', 'ind_deco_fin_ult1_prev2',\n",
       "       'ind_deme_fin_ult1_prev2', 'ind_dela_fin_ult1_prev2',\n",
       "       'ind_ecue_fin_ult1_prev2', 'ind_fond_fin_ult1_prev2',\n",
       "       'ind_hip_fin_ult1_prev2', 'ind_plan_fin_ult1_prev2',\n",
       "       'ind_pres_fin_ult1_prev2', 'ind_reca_fin_ult1_prev2',\n",
       "       'ind_tjcr_fin_ult1_prev2', 'ind_valo_fin_ult1_prev2',\n",
       "       'ind_viv_fin_ult1_prev2', 'ind_nomina_ult1_prev2',\n",
       "       'ind_nom_pens_ult1_prev2', 'ind_recibo_ult1_prev2',\n",
       "       'ind_cco_fin_ult1_prev3', 'ind_cder_fin_ult1_prev3',\n",
       "       'ind_cno_fin_ult1_prev3', 'ind_ctju_fin_ult1_prev3',\n",
       "       'ind_ctma_fin_ult1_prev3', 'ind_ctop_fin_ult1_prev3',\n",
       "       'ind_ctpp_fin_ult1_prev3', 'ind_deco_fin_ult1_prev3',\n",
       "       'ind_deme_fin_ult1_prev3', 'ind_dela_fin_ult1_prev3',\n",
       "       'ind_ecue_fin_ult1_prev3', 'ind_fond_fin_ult1_prev3',\n",
       "       'ind_hip_fin_ult1_prev3', 'ind_plan_fin_ult1_prev3',\n",
       "       'ind_pres_fin_ult1_prev3', 'ind_reca_fin_ult1_prev3',\n",
       "       'ind_tjcr_fin_ult1_prev3', 'ind_valo_fin_ult1_prev3',\n",
       "       'ind_viv_fin_ult1_prev3', 'ind_nomina_ult1_prev3',\n",
       "       'ind_nom_pens_ult1_prev3', 'ind_recibo_ult1_prev3',\n",
       "       'ind_cco_fin_ult1_prev4', 'ind_cder_fin_ult1_prev4',\n",
       "       'ind_cno_fin_ult1_prev4', 'ind_ctju_fin_ult1_prev4',\n",
       "       'ind_ctma_fin_ult1_prev4', 'ind_ctop_fin_ult1_prev4',\n",
       "       'ind_ctpp_fin_ult1_prev4', 'ind_deco_fin_ult1_prev4',\n",
       "       'ind_deme_fin_ult1_prev4', 'ind_dela_fin_ult1_prev4',\n",
       "       'ind_ecue_fin_ult1_prev4', 'ind_fond_fin_ult1_prev4',\n",
       "       'ind_hip_fin_ult1_prev4', 'ind_plan_fin_ult1_prev4',\n",
       "       'ind_pres_fin_ult1_prev4', 'ind_reca_fin_ult1_prev4',\n",
       "       'ind_tjcr_fin_ult1_prev4', 'ind_valo_fin_ult1_prev4',\n",
       "       'ind_viv_fin_ult1_prev4', 'ind_nomina_ult1_prev4',\n",
       "       'ind_nom_pens_ult1_prev4', 'ind_recibo_ult1_prev4',\n",
       "       'ind_cco_fin_ult1_prev5', 'ind_cder_fin_ult1_prev5',\n",
       "       'ind_cno_fin_ult1_prev5', 'ind_ctju_fin_ult1_prev5',\n",
       "       'ind_ctma_fin_ult1_prev5', 'ind_ctop_fin_ult1_prev5',\n",
       "       'ind_ctpp_fin_ult1_prev5', 'ind_deco_fin_ult1_prev5',\n",
       "       'ind_deme_fin_ult1_prev5', 'ind_dela_fin_ult1_prev5',\n",
       "       'ind_ecue_fin_ult1_prev5', 'ind_fond_fin_ult1_prev5',\n",
       "       'ind_hip_fin_ult1_prev5', 'ind_plan_fin_ult1_prev5',\n",
       "       'ind_pres_fin_ult1_prev5', 'ind_reca_fin_ult1_prev5',\n",
       "       'ind_tjcr_fin_ult1_prev5', 'ind_valo_fin_ult1_prev5',\n",
       "       'ind_viv_fin_ult1_prev5', 'ind_nomina_ult1_prev5',\n",
       "       'ind_nom_pens_ult1_prev5', 'ind_recibo_ult1_prev5',\n",
       "       'fecha_dato_month', 'fecha_dato_year', 'fecha_alta_month',\n",
       "       'fecha_alta_year', 'fecha_dato_float', 'fecha_alta_float',\n",
       "       'dato_minus_alta', 'indresi_n', 'indext_s', 'conyuemp_n', 'sexo_h',\n",
       "       'sexo_v', 'ind_empleado_a', 'ind_empleado_b', 'ind_empleado_f',\n",
       "       'ind_empleado_n', 'ind_nuevo_new', 'segmento_top',\n",
       "       'segmento_particulares', 'segmento_universitario', 'indfall_s',\n",
       "       'indrel_1', 'indrel_99', 'tiprel_1mes_a', 'tiprel_1mes_i',\n",
       "       'tiprel_1mes_p', 'tiprel_1mes_r'], \n",
       "      dtype='<U23')"
      ]
     },
     "execution_count": 304,
     "metadata": {},
     "output_type": "execute_result"
    }
   ],
   "source": [
    "features = list(x_train.drop(drop_columns + products + drop_products, 1).columns.values)\n",
    "np.array(features)"
   ]
  },
  {
   "cell_type": "code",
   "execution_count": 305,
   "metadata": {
    "collapsed": false
   },
   "outputs": [],
   "source": [
    "Y = x_train['target']\n",
    "X = x_train[features]"
   ]
  },
  {
   "cell_type": "code",
   "execution_count": 306,
   "metadata": {
    "collapsed": true
   },
   "outputs": [],
   "source": [
    "x_train = x_train.sample(frac=1).reset_index(drop=True) "
   ]
  },
  {
   "cell_type": "code",
   "execution_count": 339,
   "metadata": {
    "collapsed": false
   },
   "outputs": [
    {
     "name": "stdout",
     "output_type": "stream",
     "text": [
      "[0]\ttrain-mlogloss:2.86583\n",
      "[1]\ttrain-mlogloss:2.69872\n",
      "[2]\ttrain-mlogloss:2.55617\n",
      "[3]\ttrain-mlogloss:2.43484\n",
      "[4]\ttrain-mlogloss:2.33412\n",
      "[5]\ttrain-mlogloss:2.24588\n",
      "[6]\ttrain-mlogloss:2.16706\n",
      "[7]\ttrain-mlogloss:2.10306\n",
      "[8]\ttrain-mlogloss:2.04054\n",
      "[9]\ttrain-mlogloss:1.98642\n",
      "[10]\ttrain-mlogloss:1.93287\n",
      "[11]\ttrain-mlogloss:1.8809\n",
      "[12]\ttrain-mlogloss:1.83288\n",
      "[13]\ttrain-mlogloss:1.78937\n",
      "[14]\ttrain-mlogloss:1.74945\n",
      "[15]\ttrain-mlogloss:1.71159\n",
      "[16]\ttrain-mlogloss:1.67634\n",
      "[17]\ttrain-mlogloss:1.64425\n",
      "[18]\ttrain-mlogloss:1.6127\n",
      "[19]\ttrain-mlogloss:1.5817\n",
      "[20]\ttrain-mlogloss:1.5523\n",
      "[21]\ttrain-mlogloss:1.52471\n",
      "[22]\ttrain-mlogloss:1.49904\n",
      "[23]\ttrain-mlogloss:1.47365\n",
      "[24]\ttrain-mlogloss:1.44913\n",
      "[25]\ttrain-mlogloss:1.42709\n",
      "[26]\ttrain-mlogloss:1.40722\n",
      "[27]\ttrain-mlogloss:1.38681\n",
      "[28]\ttrain-mlogloss:1.36687\n",
      "[29]\ttrain-mlogloss:1.34832\n",
      "[30]\ttrain-mlogloss:1.33035\n",
      "[31]\ttrain-mlogloss:1.31295\n",
      "[32]\ttrain-mlogloss:1.2973\n",
      "[33]\ttrain-mlogloss:1.28182\n",
      "[34]\ttrain-mlogloss:1.26662\n",
      "[35]\ttrain-mlogloss:1.25324\n",
      "[36]\ttrain-mlogloss:1.23941\n",
      "[37]\ttrain-mlogloss:1.22549\n",
      "[38]\ttrain-mlogloss:1.21298\n",
      "[39]\ttrain-mlogloss:1.20055\n",
      "[40]\ttrain-mlogloss:1.18837\n",
      "[41]\ttrain-mlogloss:1.17741\n",
      "[42]\ttrain-mlogloss:1.16615\n",
      "[43]\ttrain-mlogloss:1.15549\n",
      "[44]\ttrain-mlogloss:1.14524\n",
      "[45]\ttrain-mlogloss:1.13503\n",
      "[46]\ttrain-mlogloss:1.12578\n",
      "[47]\ttrain-mlogloss:1.11618\n",
      "[48]\ttrain-mlogloss:1.10729\n",
      "[49]\ttrain-mlogloss:1.09832\n",
      "[50]\ttrain-mlogloss:1.08977\n",
      "[51]\ttrain-mlogloss:1.08145\n",
      "[52]\ttrain-mlogloss:1.0735\n",
      "[53]\ttrain-mlogloss:1.06582\n",
      "[54]\ttrain-mlogloss:1.05869\n",
      "[55]\ttrain-mlogloss:1.05167\n",
      "[56]\ttrain-mlogloss:1.04503\n",
      "[57]\ttrain-mlogloss:1.03849\n",
      "[58]\ttrain-mlogloss:1.03183\n",
      "[59]\ttrain-mlogloss:1.02537\n",
      "[60]\ttrain-mlogloss:1.01907\n",
      "[61]\ttrain-mlogloss:1.01321\n",
      "[62]\ttrain-mlogloss:1.00735\n",
      "[63]\ttrain-mlogloss:1.00167\n",
      "[64]\ttrain-mlogloss:0.996018\n",
      "[65]\ttrain-mlogloss:0.990634\n",
      "[66]\ttrain-mlogloss:0.985299\n",
      "[67]\ttrain-mlogloss:0.980094\n",
      "[68]\ttrain-mlogloss:0.974967\n",
      "[69]\ttrain-mlogloss:0.970274\n",
      "[70]\ttrain-mlogloss:0.965519\n",
      "[71]\ttrain-mlogloss:0.960697\n",
      "[72]\ttrain-mlogloss:0.956099\n",
      "[73]\ttrain-mlogloss:0.951811\n",
      "[74]\ttrain-mlogloss:0.947535\n",
      "[75]\ttrain-mlogloss:0.943454\n",
      "[76]\ttrain-mlogloss:0.939161\n",
      "[77]\ttrain-mlogloss:0.935238\n",
      "[78]\ttrain-mlogloss:0.930938\n",
      "[79]\ttrain-mlogloss:0.92682\n",
      "[80]\ttrain-mlogloss:0.923175\n",
      "[81]\ttrain-mlogloss:0.919103\n",
      "[82]\ttrain-mlogloss:0.915645\n",
      "[83]\ttrain-mlogloss:0.911877\n",
      "[84]\ttrain-mlogloss:0.908677\n",
      "[85]\ttrain-mlogloss:0.90543\n",
      "[86]\ttrain-mlogloss:0.902052\n",
      "[87]\ttrain-mlogloss:0.899022\n",
      "[88]\ttrain-mlogloss:0.895649\n",
      "[89]\ttrain-mlogloss:0.892674\n",
      "[90]\ttrain-mlogloss:0.889427\n",
      "[91]\ttrain-mlogloss:0.886349\n",
      "[92]\ttrain-mlogloss:0.883366\n",
      "[93]\ttrain-mlogloss:0.880772\n",
      "[94]\ttrain-mlogloss:0.878027\n",
      "[95]\ttrain-mlogloss:0.875159\n",
      "[96]\ttrain-mlogloss:0.872243\n",
      "[97]\ttrain-mlogloss:0.869486\n",
      "[98]\ttrain-mlogloss:0.866633\n",
      "[99]\ttrain-mlogloss:0.864209\n",
      "[100]\ttrain-mlogloss:0.861491\n",
      "[101]\ttrain-mlogloss:0.858794\n",
      "[102]\ttrain-mlogloss:0.856354\n",
      "[103]\ttrain-mlogloss:0.853859\n",
      "[104]\ttrain-mlogloss:0.851357\n",
      "[105]\ttrain-mlogloss:0.848871\n",
      "[106]\ttrain-mlogloss:0.846404\n",
      "[107]\ttrain-mlogloss:0.844256\n",
      "[108]\ttrain-mlogloss:0.842028\n",
      "[109]\ttrain-mlogloss:0.839712\n",
      "[110]\ttrain-mlogloss:0.837416\n",
      "[111]\ttrain-mlogloss:0.835081\n",
      "[112]\ttrain-mlogloss:0.83285\n",
      "[113]\ttrain-mlogloss:0.830646\n",
      "[114]\ttrain-mlogloss:0.828329\n",
      "[115]\ttrain-mlogloss:0.826333\n",
      "[116]\ttrain-mlogloss:0.82417\n",
      "[117]\ttrain-mlogloss:0.821917\n",
      "[118]\ttrain-mlogloss:0.819746\n",
      "[119]\ttrain-mlogloss:0.817769\n",
      "[120]\ttrain-mlogloss:0.815734\n",
      "[121]\ttrain-mlogloss:0.813782\n",
      "[122]\ttrain-mlogloss:0.811695\n",
      "[123]\ttrain-mlogloss:0.809816\n",
      "[124]\ttrain-mlogloss:0.807998\n",
      "[125]\ttrain-mlogloss:0.806025\n",
      "[126]\ttrain-mlogloss:0.804173\n",
      "[127]\ttrain-mlogloss:0.802505\n",
      "[128]\ttrain-mlogloss:0.800573\n",
      "[129]\ttrain-mlogloss:0.798773\n",
      "[130]\ttrain-mlogloss:0.79704\n",
      "[131]\ttrain-mlogloss:0.795401\n",
      "[132]\ttrain-mlogloss:0.793616\n",
      "[133]\ttrain-mlogloss:0.791917\n",
      "[134]\ttrain-mlogloss:0.790194\n",
      "[135]\ttrain-mlogloss:0.788484\n",
      "[136]\ttrain-mlogloss:0.78703\n",
      "[137]\ttrain-mlogloss:0.785634\n",
      "[138]\ttrain-mlogloss:0.78417\n",
      "[139]\ttrain-mlogloss:0.782669\n",
      "[140]\ttrain-mlogloss:0.781303\n",
      "[141]\ttrain-mlogloss:0.779761\n",
      "[142]\ttrain-mlogloss:0.778342\n",
      "[143]\ttrain-mlogloss:0.776883\n",
      "[144]\ttrain-mlogloss:0.775287\n",
      "[145]\ttrain-mlogloss:0.773764\n",
      "[146]\ttrain-mlogloss:0.772094\n",
      "[147]\ttrain-mlogloss:0.770317\n",
      "[148]\ttrain-mlogloss:0.768513\n",
      "[149]\ttrain-mlogloss:0.767025\n"
     ]
    }
   ],
   "source": [
    "(model, progress) = xgboost(X, Y, 150, param)"
   ]
  },
  {
   "cell_type": "markdown",
   "metadata": {},
   "source": [
    "# Create Validation Set"
   ]
  },
  {
   "cell_type": "code",
   "execution_count": 277,
   "metadata": {
    "collapsed": false
   },
   "outputs": [
    {
     "name": "stdout",
     "output_type": "stream",
     "text": [
      "(931453, array(['2016-05-28'], dtype=object))\n"
     ]
    }
   ],
   "source": [
    "x_valid = df_train[(df_train['int_date'] == 17)]\n",
    "len_x_valid = len(x_valid)\n",
    "print((len_x_valid, pd.unique(x_valid['fecha_dato'])))"
   ]
  },
  {
   "cell_type": "code",
   "execution_count": 278,
   "metadata": {
    "collapsed": false
   },
   "outputs": [
    {
     "name": "stderr",
     "output_type": "stream",
     "text": [
      "/Users/patorn/.pyenv/versions/3.6.0/lib/python3.6/site-packages/pandas/core/frame.py:2440: SettingWithCopyWarning: \n",
      "A value is trying to be set on a copy of a slice from a DataFrame.\n",
      "Try using .loc[row_indexer,col_indexer] = value instead\n",
      "\n",
      "See the caveats in the documentation: http://pandas.pydata.org/pandas-docs/stable/indexing.html#indexing-view-versus-copy\n",
      "  self[k1] = value[k2]\n",
      "/Users/patorn/.pyenv/versions/3.6.0/lib/python3.6/site-packages/pandas/core/indexing.py:297: SettingWithCopyWarning: \n",
      "A value is trying to be set on a copy of a slice from a DataFrame.\n",
      "Try using .loc[row_indexer,col_indexer] = value instead\n",
      "\n",
      "See the caveats in the documentation: http://pandas.pydata.org/pandas-docs/stable/indexing.html#indexing-view-versus-copy\n",
      "  self.obj[key] = _infer_fill_value(value)\n",
      "/Users/patorn/.pyenv/versions/3.6.0/lib/python3.6/site-packages/pandas/core/indexing.py:477: SettingWithCopyWarning: \n",
      "A value is trying to be set on a copy of a slice from a DataFrame.\n",
      "Try using .loc[row_indexer,col_indexer] = value instead\n",
      "\n",
      "See the caveats in the documentation: http://pandas.pydata.org/pandas-docs/stable/indexing.html#indexing-view-versus-copy\n",
      "  self.obj[item] = s\n"
     ]
    },
    {
     "data": {
      "text/plain": [
       "21.0    10220\n",
       "20.0     5541\n",
       "19.0     5516\n",
       "0.0      5511\n",
       "16.0     4252\n",
       "10.0     2723\n",
       "2.0      2369\n",
       "4.0       713\n",
       "15.0      283\n",
       "5.0       226\n",
       "17.0      183\n",
       "6.0       131\n",
       "3.0        77\n",
       "11.0       61\n",
       "9.0        46\n",
       "13.0       22\n",
       "18.0        7\n",
       "14.0        7\n",
       "1.0         5\n",
       "12.0        3\n",
       "Name: target, dtype: int64"
      ]
     },
     "execution_count": 278,
     "metadata": {},
     "output_type": "execute_result"
    }
   ],
   "source": [
    "x_valid = utils.create_train_with_target(x_valid, current_products)\n",
    "x_valid['target'].value_counts()"
   ]
  },
  {
   "cell_type": "markdown",
   "metadata": {},
   "source": [
    "# Prediction"
   ]
  },
  {
   "cell_type": "code",
   "execution_count": 370,
   "metadata": {
    "collapsed": false
   },
   "outputs": [],
   "source": [
    "x_eval = x_valid\n",
    "\n",
    "id_preds = {}\n",
    "ids = x_eval['ncodpers'].values\n",
    "\n",
    "x_test = x_eval[features]\n",
    "x_test = x_test.fillna(0) # check this\n",
    "        \n",
    "xg_test = xgb.DMatrix(x_test)\n",
    "p_test = model.predict(xg_test)\n",
    "\n",
    "for i, p in zip(ids, p_test):\n",
    "    id_preds[i] = list(p)"
   ]
  },
  {
   "cell_type": "code",
   "execution_count": 371,
   "metadata": {
    "collapsed": false
   },
   "outputs": [],
   "source": [
    "# number of predicted products should equal to number of available products\n",
    "assert len(current_products) == len(id_preds[658081])"
   ]
  },
  {
   "cell_type": "code",
   "execution_count": 372,
   "metadata": {
    "collapsed": true
   },
   "outputs": [],
   "source": [
    "products_prev = [product + '_prev1' for product in current_products]"
   ]
  },
  {
   "cell_type": "code",
   "execution_count": 373,
   "metadata": {
    "collapsed": true
   },
   "outputs": [],
   "source": [
    "df_sm_test = x_eval.loc[:,['ncodpers'] + products_prev]\n",
    "df_sm_test['ncodpers'] = df_sm_test['ncodpers'].astype(str)"
   ]
  },
  {
   "cell_type": "code",
   "execution_count": 374,
   "metadata": {
    "collapsed": false
   },
   "outputs": [],
   "source": [
    "already_active = {}\n",
    "for row in df_sm_test.values:\n",
    "    row = list(row)\n",
    "    _id = row.pop(0)\n",
    "    active = [c[0] for c in zip(tuple(products_prev), row) if c[1] > 0]\n",
    "    already_active[_id] = active"
   ]
  },
  {
   "cell_type": "code",
   "execution_count": 375,
   "metadata": {
    "collapsed": false
   },
   "outputs": [],
   "source": [
    "# add 7 products(that user don't have yet), higher probability first -> train_pred\n",
    "train_preds = {}\n",
    "\n",
    "for id_pred, p in id_preds.items():\n",
    "    preds = [i[0] for i in sorted([i for i in zip(tuple(current_products), p) if i[0] not in already_active[str(id_pred)]],\n",
    "                                  key=lambda i:i [1],\n",
    "                                  reverse=True)[:7]]\n",
    "    train_preds[id_pred] = preds"
   ]
  },
  {
   "cell_type": "markdown",
   "metadata": {
    "collapsed": true
   },
   "source": [
    "# MAP@7"
   ]
  },
  {
   "cell_type": "markdown",
   "metadata": {},
   "source": [
    "### MAP code"
   ]
  },
  {
   "cell_type": "code",
   "execution_count": 285,
   "metadata": {
    "collapsed": true
   },
   "outputs": [],
   "source": [
    "def apk(actual, predicted, k=10, default=1.0):\n",
    "    if len(predicted)>k:\n",
    "        predicted = predicted[:k]\n",
    "\n",
    "    score = 0.0\n",
    "    num_hits = 0.0\n",
    "\n",
    "    for i,p in enumerate(predicted):\n",
    "        if p in actual and p not in predicted[:i]:\n",
    "            num_hits += 1.0\n",
    "            score += num_hits / (i+1.0)\n",
    "\n",
    "    if not actual:\n",
    "        return default\n",
    "\n",
    "    return score / min(len(actual), k)\n",
    "\n",
    "def mapk(actual, predicted, k=10, default=1.0):\n",
    "    return np.mean([apk(a,p,k,default) for a,p in zip(actual, predicted)])"
   ]
  },
  {
   "cell_type": "markdown",
   "metadata": {},
   "source": [
    "### Evaluation"
   ]
  },
  {
   "cell_type": "code",
   "execution_count": 286,
   "metadata": {
    "collapsed": true
   },
   "outputs": [],
   "source": [
    "from collections import defaultdict"
   ]
  },
  {
   "cell_type": "code",
   "execution_count": 376,
   "metadata": {
    "collapsed": false
   },
   "outputs": [],
   "source": [
    "true_labels = defaultdict(list)\n",
    "for i, row in x_eval.iterrows():\n",
    "    true_labels[row['ncodpers']].append(current_products[int(row['target'])])"
   ]
  },
  {
   "cell_type": "code",
   "execution_count": 377,
   "metadata": {
    "collapsed": false
   },
   "outputs": [],
   "source": [
    "actuals = []\n",
    "predicts = []\n",
    "for k,v in true_labels.items():\n",
    "    actuals.append(v)\n",
    "    predicts.append(train_preds[k])"
   ]
  },
  {
   "cell_type": "code",
   "execution_count": 378,
   "metadata": {
    "collapsed": false
   },
   "outputs": [
    {
     "data": {
      "text/plain": [
       "0.67991010134030727"
      ]
     },
     "execution_count": 378,
     "metadata": {},
     "output_type": "execute_result"
    }
   ],
   "source": [
    "mapk(actuals, predicts)"
   ]
  },
  {
   "cell_type": "markdown",
   "metadata": {},
   "source": [
    "# Submission"
   ]
  },
  {
   "cell_type": "code",
   "execution_count": 232,
   "metadata": {
    "collapsed": false
   },
   "outputs": [
    {
     "name": "stderr",
     "output_type": "stream",
     "text": [
      "/Users/patorn/.pyenv/versions/3.6.0/lib/python3.6/site-packages/pandas/core/frame.py:2440: SettingWithCopyWarning: \n",
      "A value is trying to be set on a copy of a slice from a DataFrame.\n",
      "Try using .loc[row_indexer,col_indexer] = value instead\n",
      "\n",
      "See the caveats in the documentation: http://pandas.pydata.org/pandas-docs/stable/indexing.html#indexing-view-versus-copy\n",
      "  self[k1] = value[k2]\n",
      "/Users/patorn/.pyenv/versions/3.6.0/lib/python3.6/site-packages/pandas/core/indexing.py:297: SettingWithCopyWarning: \n",
      "A value is trying to be set on a copy of a slice from a DataFrame.\n",
      "Try using .loc[row_indexer,col_indexer] = value instead\n",
      "\n",
      "See the caveats in the documentation: http://pandas.pydata.org/pandas-docs/stable/indexing.html#indexing-view-versus-copy\n",
      "  self.obj[key] = _infer_fill_value(value)\n",
      "/Users/patorn/.pyenv/versions/3.6.0/lib/python3.6/site-packages/pandas/core/indexing.py:477: SettingWithCopyWarning: \n",
      "A value is trying to be set on a copy of a slice from a DataFrame.\n",
      "Try using .loc[row_indexer,col_indexer] = value instead\n",
      "\n",
      "See the caveats in the documentation: http://pandas.pydata.org/pandas-docs/stable/indexing.html#indexing-view-versus-copy\n",
      "  self.obj[item] = s\n"
     ]
    },
    {
     "data": {
      "text/plain": [
       "0.0     9457\n",
       "21.0    9131\n",
       "20.0    8229\n",
       "19.0    5161\n",
       "16.0    4755\n",
       "15.0    2942\n",
       "2.0     1934\n",
       "10.0    1219\n",
       "9.0     1085\n",
       "7.0      503\n",
       "4.0      349\n",
       "11.0     246\n",
       "5.0      222\n",
       "17.0     159\n",
       "6.0      154\n",
       "3.0       55\n",
       "8.0       33\n",
       "13.0      21\n",
       "1.0        9\n",
       "14.0       8\n",
       "12.0       4\n",
       "18.0       3\n",
       "Name: target, dtype: int64"
      ]
     },
     "execution_count": 232,
     "metadata": {},
     "output_type": "execute_result"
    }
   ],
   "source": [
    "x_train = df_train[(df_train['int_date'] == 6)]\n",
    "x_train = utils.create_train_with_target(x_train, current_products)\n",
    "x_train['target'].value_counts()"
   ]
  },
  {
   "cell_type": "code",
   "execution_count": 233,
   "metadata": {
    "collapsed": true
   },
   "outputs": [],
   "source": [
    "Y = x_train['target']\n",
    "X = x_train[features]\n",
    "x_train = x_train.sample(frac=1).reset_index(drop=True)"
   ]
  },
  {
   "cell_type": "code",
   "execution_count": 234,
   "metadata": {
    "collapsed": false
   },
   "outputs": [
    {
     "name": "stdout",
     "output_type": "stream",
     "text": [
      "[0]\ttrain-mlogloss:2.85452\n",
      "[1]\ttrain-mlogloss:2.67662\n",
      "[2]\ttrain-mlogloss:2.55013\n",
      "[3]\ttrain-mlogloss:2.43776\n",
      "[4]\ttrain-mlogloss:2.33574\n",
      "[5]\ttrain-mlogloss:2.248\n",
      "[6]\ttrain-mlogloss:2.16981\n",
      "[7]\ttrain-mlogloss:2.09844\n",
      "[8]\ttrain-mlogloss:2.03293\n",
      "[9]\ttrain-mlogloss:1.97035\n",
      "[10]\ttrain-mlogloss:1.91962\n",
      "[11]\ttrain-mlogloss:1.87039\n",
      "[12]\ttrain-mlogloss:1.82406\n",
      "[13]\ttrain-mlogloss:1.77844\n",
      "[14]\ttrain-mlogloss:1.73832\n",
      "[15]\ttrain-mlogloss:1.70093\n",
      "[16]\ttrain-mlogloss:1.66391\n",
      "[17]\ttrain-mlogloss:1.62872\n",
      "[18]\ttrain-mlogloss:1.59668\n",
      "[19]\ttrain-mlogloss:1.56645\n",
      "[20]\ttrain-mlogloss:1.53818\n",
      "[21]\ttrain-mlogloss:1.51011\n",
      "[22]\ttrain-mlogloss:1.48361\n",
      "[23]\ttrain-mlogloss:1.45974\n",
      "[24]\ttrain-mlogloss:1.43699\n",
      "[25]\ttrain-mlogloss:1.41557\n",
      "[26]\ttrain-mlogloss:1.39491\n",
      "[27]\ttrain-mlogloss:1.37554\n",
      "[28]\ttrain-mlogloss:1.35725\n",
      "[29]\ttrain-mlogloss:1.33908\n",
      "[30]\ttrain-mlogloss:1.32086\n",
      "[31]\ttrain-mlogloss:1.30365\n",
      "[32]\ttrain-mlogloss:1.28728\n",
      "[33]\ttrain-mlogloss:1.27117\n",
      "[34]\ttrain-mlogloss:1.25601\n",
      "[35]\ttrain-mlogloss:1.24154\n",
      "[36]\ttrain-mlogloss:1.22792\n",
      "[37]\ttrain-mlogloss:1.215\n",
      "[38]\ttrain-mlogloss:1.20249\n",
      "[39]\ttrain-mlogloss:1.18994\n",
      "[40]\ttrain-mlogloss:1.17799\n",
      "[41]\ttrain-mlogloss:1.16649\n",
      "[42]\ttrain-mlogloss:1.15578\n",
      "[43]\ttrain-mlogloss:1.14515\n",
      "[44]\ttrain-mlogloss:1.13489\n",
      "[45]\ttrain-mlogloss:1.12558\n",
      "[46]\ttrain-mlogloss:1.11605\n",
      "[47]\ttrain-mlogloss:1.10704\n",
      "[48]\ttrain-mlogloss:1.09894\n",
      "[49]\ttrain-mlogloss:1.09057\n",
      "[50]\ttrain-mlogloss:1.08237\n",
      "[51]\ttrain-mlogloss:1.07437\n",
      "[52]\ttrain-mlogloss:1.06739\n",
      "[53]\ttrain-mlogloss:1.06043\n",
      "[54]\ttrain-mlogloss:1.05324\n",
      "[55]\ttrain-mlogloss:1.04653\n",
      "[56]\ttrain-mlogloss:1.03985\n",
      "[57]\ttrain-mlogloss:1.03341\n",
      "[58]\ttrain-mlogloss:1.02743\n",
      "[59]\ttrain-mlogloss:1.0215\n",
      "[60]\ttrain-mlogloss:1.01574\n",
      "[61]\ttrain-mlogloss:1.01006\n",
      "[62]\ttrain-mlogloss:1.00465\n",
      "[63]\ttrain-mlogloss:0.999217\n",
      "[64]\ttrain-mlogloss:0.994133\n",
      "[65]\ttrain-mlogloss:0.98911\n",
      "[66]\ttrain-mlogloss:0.984148\n",
      "[67]\ttrain-mlogloss:0.979295\n",
      "[68]\ttrain-mlogloss:0.974564\n",
      "[69]\ttrain-mlogloss:0.970041\n",
      "[70]\ttrain-mlogloss:0.965583\n",
      "[71]\ttrain-mlogloss:0.961329\n",
      "[72]\ttrain-mlogloss:0.95713\n",
      "[73]\ttrain-mlogloss:0.953024\n",
      "[74]\ttrain-mlogloss:0.948942\n",
      "[75]\ttrain-mlogloss:0.944977\n",
      "[76]\ttrain-mlogloss:0.941092\n",
      "[77]\ttrain-mlogloss:0.937384\n",
      "[78]\ttrain-mlogloss:0.933586\n",
      "[79]\ttrain-mlogloss:0.930022\n",
      "[80]\ttrain-mlogloss:0.926759\n",
      "[81]\ttrain-mlogloss:0.923347\n",
      "[82]\ttrain-mlogloss:0.920206\n",
      "[83]\ttrain-mlogloss:0.917121\n",
      "[84]\ttrain-mlogloss:0.91387\n",
      "[85]\ttrain-mlogloss:0.910546\n",
      "[86]\ttrain-mlogloss:0.907464\n",
      "[87]\ttrain-mlogloss:0.904511\n",
      "[88]\ttrain-mlogloss:0.901676\n",
      "[89]\ttrain-mlogloss:0.898657\n",
      "[90]\ttrain-mlogloss:0.895806\n",
      "[91]\ttrain-mlogloss:0.892986\n",
      "[92]\ttrain-mlogloss:0.890269\n",
      "[93]\ttrain-mlogloss:0.887514\n",
      "[94]\ttrain-mlogloss:0.88503\n",
      "[95]\ttrain-mlogloss:0.882629\n",
      "[96]\ttrain-mlogloss:0.88025\n",
      "[97]\ttrain-mlogloss:0.877806\n",
      "[98]\ttrain-mlogloss:0.87562\n",
      "[99]\ttrain-mlogloss:0.873336\n",
      "[100]\ttrain-mlogloss:0.87115\n",
      "[101]\ttrain-mlogloss:0.868827\n",
      "[102]\ttrain-mlogloss:0.8666\n",
      "[103]\ttrain-mlogloss:0.864319\n",
      "[104]\ttrain-mlogloss:0.862293\n",
      "[105]\ttrain-mlogloss:0.860067\n",
      "[106]\ttrain-mlogloss:0.858112\n",
      "[107]\ttrain-mlogloss:0.856084\n",
      "[108]\ttrain-mlogloss:0.85395\n",
      "[109]\ttrain-mlogloss:0.851945\n",
      "[110]\ttrain-mlogloss:0.85004\n",
      "[111]\ttrain-mlogloss:0.84829\n",
      "[112]\ttrain-mlogloss:0.846298\n",
      "[113]\ttrain-mlogloss:0.844465\n",
      "[114]\ttrain-mlogloss:0.842608\n",
      "[115]\ttrain-mlogloss:0.840733\n",
      "[116]\ttrain-mlogloss:0.839031\n",
      "[117]\ttrain-mlogloss:0.837244\n",
      "[118]\ttrain-mlogloss:0.835735\n",
      "[119]\ttrain-mlogloss:0.834041\n",
      "[120]\ttrain-mlogloss:0.832392\n",
      "[121]\ttrain-mlogloss:0.830733\n",
      "[122]\ttrain-mlogloss:0.829136\n",
      "[123]\ttrain-mlogloss:0.827371\n",
      "[124]\ttrain-mlogloss:0.825798\n",
      "[125]\ttrain-mlogloss:0.824158\n",
      "[126]\ttrain-mlogloss:0.82245\n",
      "[127]\ttrain-mlogloss:0.82081\n",
      "[128]\ttrain-mlogloss:0.819131\n",
      "[129]\ttrain-mlogloss:0.817667\n",
      "[130]\ttrain-mlogloss:0.816178\n",
      "[131]\ttrain-mlogloss:0.814587\n",
      "[132]\ttrain-mlogloss:0.813163\n",
      "[133]\ttrain-mlogloss:0.811695\n",
      "[134]\ttrain-mlogloss:0.810268\n",
      "[135]\ttrain-mlogloss:0.808766\n",
      "[136]\ttrain-mlogloss:0.807305\n",
      "[137]\ttrain-mlogloss:0.80585\n",
      "[138]\ttrain-mlogloss:0.804508\n",
      "[139]\ttrain-mlogloss:0.803128\n",
      "[140]\ttrain-mlogloss:0.801721\n",
      "[141]\ttrain-mlogloss:0.800375\n",
      "[142]\ttrain-mlogloss:0.799313\n",
      "[143]\ttrain-mlogloss:0.797855\n",
      "[144]\ttrain-mlogloss:0.796604\n",
      "[145]\ttrain-mlogloss:0.795462\n",
      "[146]\ttrain-mlogloss:0.794205\n",
      "[147]\ttrain-mlogloss:0.793077\n",
      "[148]\ttrain-mlogloss:0.791818\n",
      "[149]\ttrain-mlogloss:0.790654\n"
     ]
    }
   ],
   "source": [
    "(model, progress) = xgboost(X, Y, 200, param)"
   ]
  },
  {
   "cell_type": "code",
   "execution_count": 235,
   "metadata": {
    "collapsed": true
   },
   "outputs": [],
   "source": [
    "id_preds = {}\n",
    "ids = df_test['ncodpers'].values\n",
    "\n",
    "x_test = df_test[features]\n",
    "x_test = x_test.fillna(0) # check this\n",
    "        \n",
    "xg_test = xgb.DMatrix(x_test)\n",
    "p_test = model.predict(xg_test)\n",
    "\n",
    "for i, p in zip(ids, p_test):\n",
    "    id_preds[i] = list(p)"
   ]
  },
  {
   "cell_type": "code",
   "execution_count": 236,
   "metadata": {
    "collapsed": true
   },
   "outputs": [],
   "source": [
    "sample = pd.read_csv('../data/sample_submission.csv')"
   ]
  },
  {
   "cell_type": "code",
   "execution_count": 237,
   "metadata": {
    "collapsed": true
   },
   "outputs": [],
   "source": [
    "products_prev = [product + '_prev1' for product in current_products]"
   ]
  },
  {
   "cell_type": "code",
   "execution_count": 248,
   "metadata": {
    "collapsed": true
   },
   "outputs": [],
   "source": [
    "df_sm_test = df_test.loc[:,['ncodpers'] + products_prev]\n",
    "df_sm_test['ncodpers'] = df_sm_test['ncodpers'].astype(str)"
   ]
  },
  {
   "cell_type": "code",
   "execution_count": 249,
   "metadata": {
    "collapsed": false
   },
   "outputs": [],
   "source": [
    "already_active = {}\n",
    "for row in df_sm_test.values:\n",
    "    row = list(row)\n",
    "    _id = row.pop(0)\n",
    "    active = [c[0] for c in zip(tuple(products_prev), row) if c[1] > 0]\n",
    "    already_active[_id] = active"
   ]
  },
  {
   "cell_type": "code",
   "execution_count": 250,
   "metadata": {
    "collapsed": false
   },
   "outputs": [],
   "source": [
    "# add 7 products(that user don't have yet), higher probability first -> train_pred\n",
    "train_preds = {}\n",
    "\n",
    "for id_pred, p in id_preds.items():\n",
    "    preds = [i[0] for i in sorted([i for i in zip(tuple(current_products), p) if i[0] not in already_active[str(id_pred)]],\n",
    "                                  key=lambda i:i [1],\n",
    "                                  reverse=True)[:7]]\n",
    "    train_preds[id_pred] = preds"
   ]
  },
  {
   "cell_type": "code",
   "execution_count": 251,
   "metadata": {
    "collapsed": false
   },
   "outputs": [],
   "source": [
    "test_preds = []\n",
    "for row in sample.values:\n",
    "    _id = row[0]\n",
    "    p = train_preds[_id]\n",
    "    test_preds.append(' '.join(p))\n",
    "\n",
    "sample['added_products'] = test_preds"
   ]
  },
  {
   "cell_type": "code",
   "execution_count": 252,
   "metadata": {
    "collapsed": false
   },
   "outputs": [
    {
     "data": {
      "text/plain": [
       "(929615, 2)"
      ]
     },
     "execution_count": 252,
     "metadata": {},
     "output_type": "execute_result"
    }
   ],
   "source": [
    "sample.shape"
   ]
  },
  {
   "cell_type": "code",
   "execution_count": 253,
   "metadata": {
    "collapsed": true
   },
   "outputs": [],
   "source": [
    "sample['added_products'] = test_preds\n",
    "sample.to_csv('../data/submission.csv', index=False)"
   ]
  },
  {
   "cell_type": "code",
   "execution_count": null,
   "metadata": {
    "collapsed": true
   },
   "outputs": [],
   "source": []
  }
 ],
 "metadata": {
  "kernelspec": {
   "display_name": "Python 3",
   "language": "python",
   "name": "python3"
  },
  "language_info": {
   "codemirror_mode": {
    "name": "ipython",
    "version": 3
   },
   "file_extension": ".py",
   "mimetype": "text/x-python",
   "name": "python",
   "nbconvert_exporter": "python",
   "pygments_lexer": "ipython3",
   "version": "3.6.0"
  }
 },
 "nbformat": 4,
 "nbformat_minor": 2
}
