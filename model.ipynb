{
 "cells": [
  {
   "cell_type": "code",
   "execution_count": 1,
   "metadata": {
    "collapsed": true
   },
   "outputs": [],
   "source": [
    "import numpy as np\n",
    "import pandas as pd \n",
    "import math"
   ]
  },
  {
   "cell_type": "code",
   "execution_count": 2,
   "metadata": {
    "collapsed": true
   },
   "outputs": [],
   "source": [
    "df_train = pd.read_hdf('../data/train_cleaned2.h5', 'df')"
   ]
  },
  {
   "cell_type": "code",
   "execution_count": 7,
   "metadata": {
    "collapsed": false,
    "scrolled": true
   },
   "outputs": [
    {
     "data": {
      "text/plain": [
       "Index(['fecha_dato', 'ncodpers', 'ind_empleado', 'pais_residencia', 'sexo',\n",
       "       'age', 'fecha_alta', 'ind_nuevo', 'antiguedad', 'indrel',\n",
       "       'ult_fec_cli_1t', 'indrel_1mes', 'tiprel_1mes', 'indresi', 'indext',\n",
       "       'conyuemp', 'canal_entrada', 'indfall', 'tipodom', 'cod_prov',\n",
       "       'nomprov', 'ind_actividad_cliente', 'renta', 'segmento',\n",
       "       'ind_ahor_fin_ult1', 'ind_aval_fin_ult1', 'ind_cco_fin_ult1',\n",
       "       'ind_cder_fin_ult1', 'ind_cno_fin_ult1', 'ind_ctju_fin_ult1',\n",
       "       'ind_ctma_fin_ult1', 'ind_ctop_fin_ult1', 'ind_ctpp_fin_ult1',\n",
       "       'ind_deco_fin_ult1', 'ind_deme_fin_ult1', 'ind_dela_fin_ult1',\n",
       "       'ind_ecue_fin_ult1', 'ind_fond_fin_ult1', 'ind_hip_fin_ult1',\n",
       "       'ind_plan_fin_ult1', 'ind_pres_fin_ult1', 'ind_reca_fin_ult1',\n",
       "       'ind_tjcr_fin_ult1', 'ind_valo_fin_ult1', 'ind_viv_fin_ult1',\n",
       "       'ind_nomina_ult1', 'ind_nom_pens_ult1', 'ind_recibo_ult1', 'renta_log',\n",
       "       'fecha_dato_month', 'fecha_dato_year', 'fecha_alta_month',\n",
       "       'fecha_alta_year', 'fecha_dato_float', 'fecha_alta_float',\n",
       "       'dato_minus_alta', 'int_date', 'indresi_n', 'indext_s', 'conyuemp_n',\n",
       "       'sexo_h', 'sexo_v', 'ind_empleado_a', 'ind_empleado_b',\n",
       "       'ind_empleado_f', 'ind_empleado_n', 'ind_nuevo_new', 'segmento_top',\n",
       "       'segmento_particulares', 'segmento_universitario', 'indfall_s',\n",
       "       'indrel_1', 'indrel_99', 'tiprel_1mes_a', 'tiprel_1mes_i',\n",
       "       'tiprel_1mes_p', 'tiprel_1mes_r'],\n",
       "      dtype='object')"
      ]
     },
     "execution_count": 7,
     "metadata": {},
     "output_type": "execute_result"
    }
   ],
   "source": [
    "df_train.columns"
   ]
  },
  {
   "cell_type": "code",
   "execution_count": 8,
   "metadata": {
    "collapsed": true
   },
   "outputs": [],
   "source": [
    "features = [\n",
    "    'pais_residencia', 'age', 'fecha_alta', 'antiguedad',\n",
    "    'ult_fec_cli_1t', 'indrel_1mes', 'canal_entrada', 'tipodom', 'cod_prov',\n",
    "    'nomprov', 'ind_actividad_cliente', 'renta_log',\n",
    "    'fecha_dato_month', 'fecha_dato_year', 'fecha_alta_month', 'fecha_alta_year',\n",
    "    'dato_minus_alta', 'indresi_n', 'indext_s', 'conyuemp_n',\n",
    "    'sexo_h', 'sexo_v', 'ind_empleado_a', 'ind_empleado_b',\n",
    "    'ind_empleado_f', 'ind_empleado_n', 'ind_nuevo_new', 'segmento_top',\n",
    "    'segmento_particulares', 'segmento_universitario', 'indfall_s',\n",
    "    'indrel_1', 'indrel_99', 'tiprel_1mes_a', 'tiprel_1mes_i',\n",
    "    'tiprel_1mes_p', 'tiprel_1mes_r'\n",
    "]"
   ]
  },
  {
   "cell_type": "code",
   "execution_count": 1,
   "metadata": {
    "collapsed": true
   },
   "outputs": [],
   "source": [
    "lag_features = ['ind_ahor_fin_ult1_prev1', 'ind_ahor_fin_ult1_prev2',\n",
    " 'ind_ahor_fin_ult1_prev3', 'ind_ahor_fin_ult1_prev4',\n",
    " 'ind_ahor_fin_ult1_prev5',\n",
    " 'ind_aval_fin_ult1_prev1', 'ind_aval_fin_ult1_prev2',\n",
    " 'ind_aval_fin_ult1_prev3', 'ind_aval_fin_ult1_prev4',\n",
    " 'ind_aval_fin_ult1_prev5',\n",
    " 'ind_cco_fin_ult1_prev1', 'ind_cco_fin_ult1_prev2',\n",
    " 'ind_cco_fin_ult1_prev3', 'ind_cco_fin_ult1_prev4',\n",
    " 'ind_cco_fin_ult1_prev5',\n",
    " 'ind_cder_fin_ult1_prev1', 'ind_cder_fin_ult1_prev2',\n",
    " 'ind_cder_fin_ult1_prev3', 'ind_cder_fin_ult1_prev4',\n",
    " 'ind_cder_fin_ult1_prev5',\n",
    " 'ind_cno_fin_ult1_prev1', 'ind_cno_fin_ult1_prev2',\n",
    " 'ind_cno_fin_ult1_prev3', 'ind_cno_fin_ult1_prev4',\n",
    " 'ind_cno_fin_ult1_prev5',\n",
    " 'ind_ctju_fin_ult1_prev1', 'ind_ctju_fin_ult1_prev2',\n",
    " 'ind_ctju_fin_ult1_prev3', 'ind_ctju_fin_ult1_prev4',\n",
    " 'ind_ctju_fin_ult1_prev5',\n",
    " 'ind_ctma_fin_ult1_prev1', 'ind_ctma_fin_ult1_prev2',\n",
    " 'ind_ctma_fin_ult1_prev3', 'ind_ctma_fin_ult1_prev4',\n",
    " 'ind_ctma_fin_ult1_prev5',\n",
    " 'ind_ctop_fin_ult1_prev1', 'ind_ctop_fin_ult1_prev2',\n",
    " 'ind_ctop_fin_ult1_prev3', 'ind_ctop_fin_ult1_prev4',\n",
    " 'ind_ctop_fin_ult1_prev5',\n",
    " 'ind_ctpp_fin_ult1_prev1', 'ind_ctpp_fin_ult1_prev2',\n",
    " 'ind_ctpp_fin_ult1_prev3', 'ind_ctpp_fin_ult1_prev4',\n",
    " 'ind_ctpp_fin_ult1_prev5',\n",
    " 'ind_deco_fin_ult1_prev1', 'ind_deco_fin_ult1_prev2',\n",
    " 'ind_deco_fin_ult1_prev3', 'ind_deco_fin_ult1_prev4',\n",
    " 'ind_deco_fin_ult1_prev5',\n",
    " 'ind_dela_fin_ult1_prev1', 'ind_dela_fin_ult1_prev2',\n",
    " 'ind_dela_fin_ult1_prev3', 'ind_dela_fin_ult1_prev4',\n",
    " 'ind_dela_fin_ult1_prev5',\n",
    " 'ind_deme_fin_ult1_prev1', 'ind_deme_fin_ult1_prev2',\n",
    " 'ind_deme_fin_ult1_prev3', 'ind_deme_fin_ult1_prev4',\n",
    " 'ind_deme_fin_ult1_prev5',\n",
    " 'ind_ecue_fin_ult1_prev1', 'ind_ecue_fin_ult1_prev2',\n",
    " 'ind_ecue_fin_ult1_prev3', 'ind_ecue_fin_ult1_prev4',\n",
    " 'ind_ecue_fin_ult1_prev5',\n",
    " 'ind_fond_fin_ult1_prev1', 'ind_fond_fin_ult1_prev2',\n",
    " 'ind_fond_fin_ult1_prev3', 'ind_fond_fin_ult1_prev4',\n",
    " 'ind_fond_fin_ult1_prev5',\n",
    " 'ind_hip_fin_ult1_prev1', 'ind_hip_fin_ult1_prev2',\n",
    " 'ind_hip_fin_ult1_prev3', 'ind_hip_fin_ult1_prev4',\n",
    " 'ind_hip_fin_ult1_prev5',\n",
    " 'ind_nom_pens_ult1_prev1', 'ind_nom_pens_ult1_prev2',\n",
    " 'ind_nom_pens_ult1_prev3', 'ind_nom_pens_ult1_prev4',\n",
    " 'ind_nom_pens_ult1_prev5',\n",
    " 'ind_nomina_ult1_prev1', 'ind_nomina_ult1_prev2',\n",
    " 'ind_nomina_ult1_prev3', 'ind_nomina_ult1_prev4',\n",
    " 'ind_nomina_ult1_prev5',\n",
    " 'ind_plan_fin_ult1_prev1', 'ind_plan_fin_ult1_prev2',\n",
    " 'ind_plan_fin_ult1_prev3', 'ind_plan_fin_ult1_prev4',\n",
    " 'ind_plan_fin_ult1_prev5',\n",
    " 'ind_pres_fin_ult1_prev1', 'ind_pres_fin_ult1_prev2',\n",
    " 'ind_pres_fin_ult1_prev3', 'ind_pres_fin_ult1_prev4',\n",
    " 'ind_pres_fin_ult1_prev5',\n",
    " 'ind_reca_fin_ult1_prev1', 'ind_reca_fin_ult1_prev2',\n",
    " 'ind_reca_fin_ult1_prev3', 'ind_reca_fin_ult1_prev4',\n",
    " 'ind_reca_fin_ult1_prev5',\n",
    " 'ind_recibo_ult1_prev1', 'ind_recibo_ult1_prev2',\n",
    " 'ind_recibo_ult1_prev3', 'ind_recibo_ult1_prev4',\n",
    " 'ind_recibo_ult1_prev5',\n",
    " 'ind_tjcr_fin_ult1_prev1', 'ind_tjcr_fin_ult1_prev2',\n",
    " 'ind_tjcr_fin_ult1_prev3', 'ind_tjcr_fin_ult1_prev4',\n",
    " 'ind_tjcr_fin_ult1_prev5',\n",
    " 'ind_valo_fin_ult1_prev1', 'ind_valo_fin_ult1_prev2',\n",
    " 'ind_valo_fin_ult1_prev3', 'ind_valo_fin_ult1_prev4',\n",
    " 'ind_valo_fin_ult1_prev5',\n",
    " 'ind_viv_fin_ult1_prev1', 'ind_viv_fin_ult1_prev2',\n",
    " 'ind_viv_fin_ult1_prev3', 'ind_viv_fin_ult1_prev4',\n",
    " 'ind_viv_fin_ult1_prev5'\n",
    "]"
   ]
  },
  {
   "cell_type": "code",
   "execution_count": null,
   "metadata": {
    "collapsed": true
   },
   "outputs": [],
   "source": []
  }
 ],
 "metadata": {
  "kernelspec": {
   "display_name": "Python 3",
   "language": "python",
   "name": "python3"
  },
  "language_info": {
   "codemirror_mode": {
    "name": "ipython",
    "version": 3
   },
   "file_extension": ".py",
   "mimetype": "text/x-python",
   "name": "python",
   "nbconvert_exporter": "python",
   "pygments_lexer": "ipython3",
   "version": "3.6.0"
  }
 },
 "nbformat": 4,
 "nbformat_minor": 2
}
